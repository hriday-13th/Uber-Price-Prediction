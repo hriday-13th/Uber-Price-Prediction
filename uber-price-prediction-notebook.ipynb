{
 "cells": [
  {
   "cell_type": "code",
   "execution_count": 1,
   "id": "98d6a78b",
   "metadata": {
    "_cell_guid": "b1076dfc-b9ad-4769-8c92-a6c4dae69d19",
    "_uuid": "8f2839f25d086af736a60e9eeb907d3b93b6e0e5",
    "execution": {
     "iopub.execute_input": "2024-07-23T19:52:03.610803Z",
     "iopub.status.busy": "2024-07-23T19:52:03.610397Z",
     "iopub.status.idle": "2024-07-23T19:52:04.523708Z",
     "shell.execute_reply": "2024-07-23T19:52:04.522281Z"
    },
    "papermill": {
     "duration": 0.93141,
     "end_time": "2024-07-23T19:52:04.526101",
     "exception": false,
     "start_time": "2024-07-23T19:52:03.594691",
     "status": "completed"
    },
    "tags": []
   },
   "outputs": [
    {
     "name": "stdout",
     "output_type": "stream",
     "text": [
      "/kaggle/input/uber-ride-price-prediction/uber.csv\n"
     ]
    }
   ],
   "source": [
    "# This Python 3 environment comes with many helpful analytics libraries installed\n",
    "# It is defined by the kaggle/python Docker image: https://github.com/kaggle/docker-python\n",
    "# For example, here's several helpful packages to load\n",
    "\n",
    "import numpy as np # linear algebra\n",
    "import pandas as pd # data processing, CSV file I/O (e.g. pd.read_csv)\n",
    "\n",
    "# Input data files are available in the read-only \"../input/\" directory\n",
    "# For example, running this (by clicking run or pressing Shift+Enter) will list all files under the input directory\n",
    "\n",
    "import os\n",
    "for dirname, _, filenames in os.walk('/kaggle/input'):\n",
    "    for filename in filenames:\n",
    "        print(os.path.join(dirname, filename))\n",
    "\n",
    "# You can write up to 20GB to the current directory (/kaggle/working/) that gets preserved as output when you create a version using \"Save & Run All\" \n",
    "# You can also write temporary files to /kaggle/temp/, but they won't be saved outside of the current session"
   ]
  },
  {
   "cell_type": "code",
   "execution_count": 2,
   "id": "b00de2fb",
   "metadata": {
    "execution": {
     "iopub.execute_input": "2024-07-23T19:52:04.555299Z",
     "iopub.status.busy": "2024-07-23T19:52:04.554787Z",
     "iopub.status.idle": "2024-07-23T19:52:05.107580Z",
     "shell.execute_reply": "2024-07-23T19:52:05.106368Z"
    },
    "papermill": {
     "duration": 0.569832,
     "end_time": "2024-07-23T19:52:05.110242",
     "exception": false,
     "start_time": "2024-07-23T19:52:04.540410",
     "status": "completed"
    },
    "tags": []
   },
   "outputs": [],
   "source": [
    "import pandas as pd\n",
    "import numpy as np\n",
    "\n",
    "df = pd.read_csv('/kaggle/input/uber-ride-price-prediction/uber.csv', usecols=[\"pickup_datetime\", \"fare_amount\", \"passenger_count\", \"pickup_longitude\", \"pickup_latitude\", \"dropoff_longitude\", \"dropoff_latitude\"])"
   ]
  },
  {
   "cell_type": "code",
   "execution_count": 3,
   "id": "b43e96f8",
   "metadata": {
    "execution": {
     "iopub.execute_input": "2024-07-23T19:52:05.140473Z",
     "iopub.status.busy": "2024-07-23T19:52:05.140066Z",
     "iopub.status.idle": "2024-07-23T19:52:05.165454Z",
     "shell.execute_reply": "2024-07-23T19:52:05.164341Z"
    },
    "papermill": {
     "duration": 0.044495,
     "end_time": "2024-07-23T19:52:05.167865",
     "exception": false,
     "start_time": "2024-07-23T19:52:05.123370",
     "status": "completed"
    },
    "tags": []
   },
   "outputs": [
    {
     "data": {
      "text/html": [
       "<div>\n",
       "<style scoped>\n",
       "    .dataframe tbody tr th:only-of-type {\n",
       "        vertical-align: middle;\n",
       "    }\n",
       "\n",
       "    .dataframe tbody tr th {\n",
       "        vertical-align: top;\n",
       "    }\n",
       "\n",
       "    .dataframe thead th {\n",
       "        text-align: right;\n",
       "    }\n",
       "</style>\n",
       "<table border=\"1\" class=\"dataframe\">\n",
       "  <thead>\n",
       "    <tr style=\"text-align: right;\">\n",
       "      <th></th>\n",
       "      <th>fare_amount</th>\n",
       "      <th>pickup_datetime</th>\n",
       "      <th>pickup_longitude</th>\n",
       "      <th>pickup_latitude</th>\n",
       "      <th>dropoff_longitude</th>\n",
       "      <th>dropoff_latitude</th>\n",
       "      <th>passenger_count</th>\n",
       "    </tr>\n",
       "  </thead>\n",
       "  <tbody>\n",
       "    <tr>\n",
       "      <th>0</th>\n",
       "      <td>7.5</td>\n",
       "      <td>2015-05-07 19:52:06 UTC</td>\n",
       "      <td>-73.999817</td>\n",
       "      <td>40.738354</td>\n",
       "      <td>-73.999512</td>\n",
       "      <td>40.723217</td>\n",
       "      <td>1</td>\n",
       "    </tr>\n",
       "    <tr>\n",
       "      <th>1</th>\n",
       "      <td>7.7</td>\n",
       "      <td>2009-07-17 20:04:56 UTC</td>\n",
       "      <td>-73.994355</td>\n",
       "      <td>40.728225</td>\n",
       "      <td>-73.994710</td>\n",
       "      <td>40.750325</td>\n",
       "      <td>1</td>\n",
       "    </tr>\n",
       "    <tr>\n",
       "      <th>2</th>\n",
       "      <td>12.9</td>\n",
       "      <td>2009-08-24 21:45:00 UTC</td>\n",
       "      <td>-74.005043</td>\n",
       "      <td>40.740770</td>\n",
       "      <td>-73.962565</td>\n",
       "      <td>40.772647</td>\n",
       "      <td>1</td>\n",
       "    </tr>\n",
       "    <tr>\n",
       "      <th>3</th>\n",
       "      <td>5.3</td>\n",
       "      <td>2009-06-26 08:22:21 UTC</td>\n",
       "      <td>-73.976124</td>\n",
       "      <td>40.790844</td>\n",
       "      <td>-73.965316</td>\n",
       "      <td>40.803349</td>\n",
       "      <td>3</td>\n",
       "    </tr>\n",
       "    <tr>\n",
       "      <th>4</th>\n",
       "      <td>16.0</td>\n",
       "      <td>2014-08-28 17:47:00 UTC</td>\n",
       "      <td>-73.925023</td>\n",
       "      <td>40.744085</td>\n",
       "      <td>-73.973082</td>\n",
       "      <td>40.761247</td>\n",
       "      <td>5</td>\n",
       "    </tr>\n",
       "  </tbody>\n",
       "</table>\n",
       "</div>"
      ],
      "text/plain": [
       "   fare_amount          pickup_datetime  pickup_longitude  pickup_latitude  \\\n",
       "0          7.5  2015-05-07 19:52:06 UTC        -73.999817        40.738354   \n",
       "1          7.7  2009-07-17 20:04:56 UTC        -73.994355        40.728225   \n",
       "2         12.9  2009-08-24 21:45:00 UTC        -74.005043        40.740770   \n",
       "3          5.3  2009-06-26 08:22:21 UTC        -73.976124        40.790844   \n",
       "4         16.0  2014-08-28 17:47:00 UTC        -73.925023        40.744085   \n",
       "\n",
       "   dropoff_longitude  dropoff_latitude  passenger_count  \n",
       "0         -73.999512         40.723217                1  \n",
       "1         -73.994710         40.750325                1  \n",
       "2         -73.962565         40.772647                1  \n",
       "3         -73.965316         40.803349                3  \n",
       "4         -73.973082         40.761247                5  "
      ]
     },
     "execution_count": 3,
     "metadata": {},
     "output_type": "execute_result"
    }
   ],
   "source": [
    "df.head()"
   ]
  },
  {
   "cell_type": "code",
   "execution_count": 4,
   "id": "40b7611c",
   "metadata": {
    "execution": {
     "iopub.execute_input": "2024-07-23T19:52:05.197328Z",
     "iopub.status.busy": "2024-07-23T19:52:05.196924Z",
     "iopub.status.idle": "2024-07-23T19:52:05.203782Z",
     "shell.execute_reply": "2024-07-23T19:52:05.202715Z"
    },
    "papermill": {
     "duration": 0.024574,
     "end_time": "2024-07-23T19:52:05.206155",
     "exception": false,
     "start_time": "2024-07-23T19:52:05.181581",
     "status": "completed"
    },
    "tags": []
   },
   "outputs": [
    {
     "data": {
      "text/plain": [
       "(200000, 7)"
      ]
     },
     "execution_count": 4,
     "metadata": {},
     "output_type": "execute_result"
    }
   ],
   "source": [
    "df.shape"
   ]
  },
  {
   "cell_type": "code",
   "execution_count": 5,
   "id": "ed7af620",
   "metadata": {
    "execution": {
     "iopub.execute_input": "2024-07-23T19:52:05.235837Z",
     "iopub.status.busy": "2024-07-23T19:52:05.235449Z",
     "iopub.status.idle": "2024-07-23T19:52:05.321362Z",
     "shell.execute_reply": "2024-07-23T19:52:05.320225Z"
    },
    "papermill": {
     "duration": 0.103172,
     "end_time": "2024-07-23T19:52:05.323787",
     "exception": false,
     "start_time": "2024-07-23T19:52:05.220615",
     "status": "completed"
    },
    "tags": []
   },
   "outputs": [
    {
     "data": {
      "text/html": [
       "<div>\n",
       "<style scoped>\n",
       "    .dataframe tbody tr th:only-of-type {\n",
       "        vertical-align: middle;\n",
       "    }\n",
       "\n",
       "    .dataframe tbody tr th {\n",
       "        vertical-align: top;\n",
       "    }\n",
       "\n",
       "    .dataframe thead th {\n",
       "        text-align: right;\n",
       "    }\n",
       "</style>\n",
       "<table border=\"1\" class=\"dataframe\">\n",
       "  <thead>\n",
       "    <tr style=\"text-align: right;\">\n",
       "      <th></th>\n",
       "      <th>fare_amount</th>\n",
       "      <th>pickup_longitude</th>\n",
       "      <th>pickup_latitude</th>\n",
       "      <th>dropoff_longitude</th>\n",
       "      <th>dropoff_latitude</th>\n",
       "      <th>passenger_count</th>\n",
       "    </tr>\n",
       "  </thead>\n",
       "  <tbody>\n",
       "    <tr>\n",
       "      <th>count</th>\n",
       "      <td>200000.000000</td>\n",
       "      <td>200000.000000</td>\n",
       "      <td>200000.000000</td>\n",
       "      <td>199999.000000</td>\n",
       "      <td>199999.000000</td>\n",
       "      <td>200000.000000</td>\n",
       "    </tr>\n",
       "    <tr>\n",
       "      <th>mean</th>\n",
       "      <td>11.359955</td>\n",
       "      <td>-72.527638</td>\n",
       "      <td>39.935885</td>\n",
       "      <td>-72.525292</td>\n",
       "      <td>39.923890</td>\n",
       "      <td>1.684535</td>\n",
       "    </tr>\n",
       "    <tr>\n",
       "      <th>std</th>\n",
       "      <td>9.901776</td>\n",
       "      <td>11.437787</td>\n",
       "      <td>7.720539</td>\n",
       "      <td>13.117408</td>\n",
       "      <td>6.794829</td>\n",
       "      <td>1.385997</td>\n",
       "    </tr>\n",
       "    <tr>\n",
       "      <th>min</th>\n",
       "      <td>-52.000000</td>\n",
       "      <td>-1340.648410</td>\n",
       "      <td>-74.015515</td>\n",
       "      <td>-3356.666300</td>\n",
       "      <td>-881.985513</td>\n",
       "      <td>0.000000</td>\n",
       "    </tr>\n",
       "    <tr>\n",
       "      <th>25%</th>\n",
       "      <td>6.000000</td>\n",
       "      <td>-73.992065</td>\n",
       "      <td>40.734796</td>\n",
       "      <td>-73.991407</td>\n",
       "      <td>40.733823</td>\n",
       "      <td>1.000000</td>\n",
       "    </tr>\n",
       "    <tr>\n",
       "      <th>50%</th>\n",
       "      <td>8.500000</td>\n",
       "      <td>-73.981823</td>\n",
       "      <td>40.752592</td>\n",
       "      <td>-73.980093</td>\n",
       "      <td>40.753042</td>\n",
       "      <td>1.000000</td>\n",
       "    </tr>\n",
       "    <tr>\n",
       "      <th>75%</th>\n",
       "      <td>12.500000</td>\n",
       "      <td>-73.967153</td>\n",
       "      <td>40.767158</td>\n",
       "      <td>-73.963659</td>\n",
       "      <td>40.768001</td>\n",
       "      <td>2.000000</td>\n",
       "    </tr>\n",
       "    <tr>\n",
       "      <th>max</th>\n",
       "      <td>499.000000</td>\n",
       "      <td>57.418457</td>\n",
       "      <td>1644.421482</td>\n",
       "      <td>1153.572603</td>\n",
       "      <td>872.697628</td>\n",
       "      <td>208.000000</td>\n",
       "    </tr>\n",
       "  </tbody>\n",
       "</table>\n",
       "</div>"
      ],
      "text/plain": [
       "         fare_amount  pickup_longitude  pickup_latitude  dropoff_longitude  \\\n",
       "count  200000.000000     200000.000000    200000.000000      199999.000000   \n",
       "mean       11.359955        -72.527638        39.935885         -72.525292   \n",
       "std         9.901776         11.437787         7.720539          13.117408   \n",
       "min       -52.000000      -1340.648410       -74.015515       -3356.666300   \n",
       "25%         6.000000        -73.992065        40.734796         -73.991407   \n",
       "50%         8.500000        -73.981823        40.752592         -73.980093   \n",
       "75%        12.500000        -73.967153        40.767158         -73.963659   \n",
       "max       499.000000         57.418457      1644.421482        1153.572603   \n",
       "\n",
       "       dropoff_latitude  passenger_count  \n",
       "count     199999.000000    200000.000000  \n",
       "mean          39.923890         1.684535  \n",
       "std            6.794829         1.385997  \n",
       "min         -881.985513         0.000000  \n",
       "25%           40.733823         1.000000  \n",
       "50%           40.753042         1.000000  \n",
       "75%           40.768001         2.000000  \n",
       "max          872.697628       208.000000  "
      ]
     },
     "execution_count": 5,
     "metadata": {},
     "output_type": "execute_result"
    }
   ],
   "source": [
    "df.describe()"
   ]
  },
  {
   "cell_type": "code",
   "execution_count": 6,
   "id": "1f7e2503",
   "metadata": {
    "execution": {
     "iopub.execute_input": "2024-07-23T19:52:05.352778Z",
     "iopub.status.busy": "2024-07-23T19:52:05.352413Z",
     "iopub.status.idle": "2024-07-23T19:52:05.386301Z",
     "shell.execute_reply": "2024-07-23T19:52:05.385076Z"
    },
    "papermill": {
     "duration": 0.051449,
     "end_time": "2024-07-23T19:52:05.388994",
     "exception": false,
     "start_time": "2024-07-23T19:52:05.337545",
     "status": "completed"
    },
    "tags": []
   },
   "outputs": [
    {
     "name": "stdout",
     "output_type": "stream",
     "text": [
      "<class 'pandas.core.frame.DataFrame'>\n",
      "RangeIndex: 200000 entries, 0 to 199999\n",
      "Data columns (total 7 columns):\n",
      " #   Column             Non-Null Count   Dtype  \n",
      "---  ------             --------------   -----  \n",
      " 0   fare_amount        200000 non-null  float64\n",
      " 1   pickup_datetime    200000 non-null  object \n",
      " 2   pickup_longitude   200000 non-null  float64\n",
      " 3   pickup_latitude    200000 non-null  float64\n",
      " 4   dropoff_longitude  199999 non-null  float64\n",
      " 5   dropoff_latitude   199999 non-null  float64\n",
      " 6   passenger_count    200000 non-null  int64  \n",
      "dtypes: float64(5), int64(1), object(1)\n",
      "memory usage: 10.7+ MB\n"
     ]
    }
   ],
   "source": [
    "df.info()"
   ]
  },
  {
   "cell_type": "code",
   "execution_count": 7,
   "id": "394644de",
   "metadata": {
    "execution": {
     "iopub.execute_input": "2024-07-23T19:52:05.418584Z",
     "iopub.status.busy": "2024-07-23T19:52:05.418200Z",
     "iopub.status.idle": "2024-07-23T19:52:05.437408Z",
     "shell.execute_reply": "2024-07-23T19:52:05.436380Z"
    },
    "papermill": {
     "duration": 0.036522,
     "end_time": "2024-07-23T19:52:05.439812",
     "exception": false,
     "start_time": "2024-07-23T19:52:05.403290",
     "status": "completed"
    },
    "tags": []
   },
   "outputs": [
    {
     "data": {
      "text/plain": [
       "fare_amount          0\n",
       "pickup_datetime      0\n",
       "pickup_longitude     0\n",
       "pickup_latitude      0\n",
       "dropoff_longitude    1\n",
       "dropoff_latitude     1\n",
       "passenger_count      0\n",
       "dtype: int64"
      ]
     },
     "execution_count": 7,
     "metadata": {},
     "output_type": "execute_result"
    }
   ],
   "source": [
    "df.isnull().sum()"
   ]
  },
  {
   "cell_type": "code",
   "execution_count": 8,
   "id": "3e337ad8",
   "metadata": {
    "execution": {
     "iopub.execute_input": "2024-07-23T19:52:05.469548Z",
     "iopub.status.busy": "2024-07-23T19:52:05.469152Z",
     "iopub.status.idle": "2024-07-23T19:52:08.098114Z",
     "shell.execute_reply": "2024-07-23T19:52:08.096899Z"
    },
    "papermill": {
     "duration": 2.646846,
     "end_time": "2024-07-23T19:52:08.100733",
     "exception": false,
     "start_time": "2024-07-23T19:52:05.453887",
     "status": "completed"
    },
    "tags": []
   },
   "outputs": [],
   "source": [
    "df['pickup_datetime'] = pd.to_datetime(df['pickup_datetime'])"
   ]
  },
  {
   "cell_type": "code",
   "execution_count": 9,
   "id": "7125ce22",
   "metadata": {
    "execution": {
     "iopub.execute_input": "2024-07-23T19:52:08.129787Z",
     "iopub.status.busy": "2024-07-23T19:52:08.129408Z",
     "iopub.status.idle": "2024-07-23T19:52:08.144516Z",
     "shell.execute_reply": "2024-07-23T19:52:08.143384Z"
    },
    "papermill": {
     "duration": 0.032226,
     "end_time": "2024-07-23T19:52:08.146730",
     "exception": false,
     "start_time": "2024-07-23T19:52:08.114504",
     "status": "completed"
    },
    "tags": []
   },
   "outputs": [
    {
     "data": {
      "text/html": [
       "<div>\n",
       "<style scoped>\n",
       "    .dataframe tbody tr th:only-of-type {\n",
       "        vertical-align: middle;\n",
       "    }\n",
       "\n",
       "    .dataframe tbody tr th {\n",
       "        vertical-align: top;\n",
       "    }\n",
       "\n",
       "    .dataframe thead th {\n",
       "        text-align: right;\n",
       "    }\n",
       "</style>\n",
       "<table border=\"1\" class=\"dataframe\">\n",
       "  <thead>\n",
       "    <tr style=\"text-align: right;\">\n",
       "      <th></th>\n",
       "      <th>fare_amount</th>\n",
       "      <th>pickup_datetime</th>\n",
       "      <th>pickup_longitude</th>\n",
       "      <th>pickup_latitude</th>\n",
       "      <th>dropoff_longitude</th>\n",
       "      <th>dropoff_latitude</th>\n",
       "      <th>passenger_count</th>\n",
       "    </tr>\n",
       "  </thead>\n",
       "  <tbody>\n",
       "    <tr>\n",
       "      <th>0</th>\n",
       "      <td>7.5</td>\n",
       "      <td>2015-05-07 19:52:06+00:00</td>\n",
       "      <td>-73.999817</td>\n",
       "      <td>40.738354</td>\n",
       "      <td>-73.999512</td>\n",
       "      <td>40.723217</td>\n",
       "      <td>1</td>\n",
       "    </tr>\n",
       "    <tr>\n",
       "      <th>1</th>\n",
       "      <td>7.7</td>\n",
       "      <td>2009-07-17 20:04:56+00:00</td>\n",
       "      <td>-73.994355</td>\n",
       "      <td>40.728225</td>\n",
       "      <td>-73.994710</td>\n",
       "      <td>40.750325</td>\n",
       "      <td>1</td>\n",
       "    </tr>\n",
       "    <tr>\n",
       "      <th>2</th>\n",
       "      <td>12.9</td>\n",
       "      <td>2009-08-24 21:45:00+00:00</td>\n",
       "      <td>-74.005043</td>\n",
       "      <td>40.740770</td>\n",
       "      <td>-73.962565</td>\n",
       "      <td>40.772647</td>\n",
       "      <td>1</td>\n",
       "    </tr>\n",
       "    <tr>\n",
       "      <th>3</th>\n",
       "      <td>5.3</td>\n",
       "      <td>2009-06-26 08:22:21+00:00</td>\n",
       "      <td>-73.976124</td>\n",
       "      <td>40.790844</td>\n",
       "      <td>-73.965316</td>\n",
       "      <td>40.803349</td>\n",
       "      <td>3</td>\n",
       "    </tr>\n",
       "    <tr>\n",
       "      <th>4</th>\n",
       "      <td>16.0</td>\n",
       "      <td>2014-08-28 17:47:00+00:00</td>\n",
       "      <td>-73.925023</td>\n",
       "      <td>40.744085</td>\n",
       "      <td>-73.973082</td>\n",
       "      <td>40.761247</td>\n",
       "      <td>5</td>\n",
       "    </tr>\n",
       "  </tbody>\n",
       "</table>\n",
       "</div>"
      ],
      "text/plain": [
       "   fare_amount           pickup_datetime  pickup_longitude  pickup_latitude  \\\n",
       "0          7.5 2015-05-07 19:52:06+00:00        -73.999817        40.738354   \n",
       "1          7.7 2009-07-17 20:04:56+00:00        -73.994355        40.728225   \n",
       "2         12.9 2009-08-24 21:45:00+00:00        -74.005043        40.740770   \n",
       "3          5.3 2009-06-26 08:22:21+00:00        -73.976124        40.790844   \n",
       "4         16.0 2014-08-28 17:47:00+00:00        -73.925023        40.744085   \n",
       "\n",
       "   dropoff_longitude  dropoff_latitude  passenger_count  \n",
       "0         -73.999512         40.723217                1  \n",
       "1         -73.994710         40.750325                1  \n",
       "2         -73.962565         40.772647                1  \n",
       "3         -73.965316         40.803349                3  \n",
       "4         -73.973082         40.761247                5  "
      ]
     },
     "execution_count": 9,
     "metadata": {},
     "output_type": "execute_result"
    }
   ],
   "source": [
    "df.head()"
   ]
  },
  {
   "cell_type": "code",
   "execution_count": 10,
   "id": "c7eeae23",
   "metadata": {
    "execution": {
     "iopub.execute_input": "2024-07-23T19:52:08.176061Z",
     "iopub.status.busy": "2024-07-23T19:52:08.175681Z",
     "iopub.status.idle": "2024-07-23T19:52:08.190542Z",
     "shell.execute_reply": "2024-07-23T19:52:08.189447Z"
    },
    "papermill": {
     "duration": 0.032547,
     "end_time": "2024-07-23T19:52:08.193150",
     "exception": false,
     "start_time": "2024-07-23T19:52:08.160603",
     "status": "completed"
    },
    "tags": []
   },
   "outputs": [],
   "source": [
    "df.dropna(inplace=True)"
   ]
  },
  {
   "cell_type": "code",
   "execution_count": 11,
   "id": "6a9971a9",
   "metadata": {
    "execution": {
     "iopub.execute_input": "2024-07-23T19:52:08.222887Z",
     "iopub.status.busy": "2024-07-23T19:52:08.222460Z",
     "iopub.status.idle": "2024-07-23T19:52:08.233286Z",
     "shell.execute_reply": "2024-07-23T19:52:08.232048Z"
    },
    "papermill": {
     "duration": 0.028518,
     "end_time": "2024-07-23T19:52:08.235739",
     "exception": false,
     "start_time": "2024-07-23T19:52:08.207221",
     "status": "completed"
    },
    "tags": []
   },
   "outputs": [
    {
     "data": {
      "text/plain": [
       "fare_amount          0\n",
       "pickup_datetime      0\n",
       "pickup_longitude     0\n",
       "pickup_latitude      0\n",
       "dropoff_longitude    0\n",
       "dropoff_latitude     0\n",
       "passenger_count      0\n",
       "dtype: int64"
      ]
     },
     "execution_count": 11,
     "metadata": {},
     "output_type": "execute_result"
    }
   ],
   "source": [
    "df.isnull().sum()"
   ]
  },
  {
   "cell_type": "code",
   "execution_count": 12,
   "id": "1b17c4ae",
   "metadata": {
    "execution": {
     "iopub.execute_input": "2024-07-23T19:52:08.265498Z",
     "iopub.status.busy": "2024-07-23T19:52:08.265148Z",
     "iopub.status.idle": "2024-07-23T19:52:08.565300Z",
     "shell.execute_reply": "2024-07-23T19:52:08.564051Z"
    },
    "papermill": {
     "duration": 0.317903,
     "end_time": "2024-07-23T19:52:08.567654",
     "exception": false,
     "start_time": "2024-07-23T19:52:08.249751",
     "status": "completed"
    },
    "tags": []
   },
   "outputs": [
    {
     "data": {
      "text/plain": [
       "<Axes: >"
      ]
     },
     "execution_count": 12,
     "metadata": {},
     "output_type": "execute_result"
    },
    {
     "data": {
      "image/png": "[encoded data removed]",
      "text/plain": [
       "<Figure size 640x480 with 1 Axes>"
      ]
     },
     "metadata": {},
     "output_type": "display_data"
    }
   ],
   "source": [
    "df['fare_amount'].plot(kind='box')"
   ]
  },
  {
   "cell_type": "code",
   "execution_count": 13,
   "id": "669591b0",
   "metadata": {
    "execution": {
     "iopub.execute_input": "2024-07-23T19:52:08.598931Z",
     "iopub.status.busy": "2024-07-23T19:52:08.597860Z",
     "iopub.status.idle": "2024-07-23T19:52:08.615871Z",
     "shell.execute_reply": "2024-07-23T19:52:08.614369Z"
    },
    "papermill": {
     "duration": 0.036354,
     "end_time": "2024-07-23T19:52:08.618577",
     "exception": false,
     "start_time": "2024-07-23T19:52:08.582223",
     "status": "completed"
    },
    "tags": []
   },
   "outputs": [],
   "source": [
    "df = df[df['fare_amount'] > 0]"
   ]
  },
  {
   "cell_type": "code",
   "execution_count": 14,
   "id": "1af39a45",
   "metadata": {
    "execution": {
     "iopub.execute_input": "2024-07-23T19:52:08.650267Z",
     "iopub.status.busy": "2024-07-23T19:52:08.649879Z",
     "iopub.status.idle": "2024-07-23T19:52:08.917875Z",
     "shell.execute_reply": "2024-07-23T19:52:08.916607Z"
    },
    "papermill": {
     "duration": 0.28677,
     "end_time": "2024-07-23T19:52:08.920319",
     "exception": false,
     "start_time": "2024-07-23T19:52:08.633549",
     "status": "completed"
    },
    "tags": []
   },
   "outputs": [
    {
     "data": {
      "text/plain": [
       "<Axes: >"
      ]
     },
     "execution_count": 14,
     "metadata": {},
     "output_type": "execute_result"
    },
    {
     "data": {
      "image/png": "[encoded data removed]",
      "text/plain": [
       "<Figure size 640x480 with 1 Axes>"
      ]
     },
     "metadata": {},
     "output_type": "display_data"
    }
   ],
   "source": [
    "df['passenger_count'].plot(kind='box')"
   ]
  },
  {
   "cell_type": "code",
   "execution_count": 15,
   "id": "7ae83de6",
   "metadata": {
    "execution": {
     "iopub.execute_input": "2024-07-23T19:52:08.956976Z",
     "iopub.status.busy": "2024-07-23T19:52:08.956571Z",
     "iopub.status.idle": "2024-07-23T19:52:08.976844Z",
     "shell.execute_reply": "2024-07-23T19:52:08.975512Z"
    },
    "papermill": {
     "duration": 0.041595,
     "end_time": "2024-07-23T19:52:08.979525",
     "exception": false,
     "start_time": "2024-07-23T19:52:08.937930",
     "status": "completed"
    },
    "tags": []
   },
   "outputs": [
    {
     "data": {
      "text/html": [
       "<div>\n",
       "<style scoped>\n",
       "    .dataframe tbody tr th:only-of-type {\n",
       "        vertical-align: middle;\n",
       "    }\n",
       "\n",
       "    .dataframe tbody tr th {\n",
       "        vertical-align: top;\n",
       "    }\n",
       "\n",
       "    .dataframe thead th {\n",
       "        text-align: right;\n",
       "    }\n",
       "</style>\n",
       "<table border=\"1\" class=\"dataframe\">\n",
       "  <thead>\n",
       "    <tr style=\"text-align: right;\">\n",
       "      <th></th>\n",
       "      <th>fare_amount</th>\n",
       "      <th>pickup_datetime</th>\n",
       "      <th>pickup_longitude</th>\n",
       "      <th>pickup_latitude</th>\n",
       "      <th>dropoff_longitude</th>\n",
       "      <th>dropoff_latitude</th>\n",
       "      <th>passenger_count</th>\n",
       "    </tr>\n",
       "  </thead>\n",
       "  <tbody>\n",
       "    <tr>\n",
       "      <th>113038</th>\n",
       "      <td>11.7</td>\n",
       "      <td>2010-12-28 08:20:00+00:00</td>\n",
       "      <td>-73.937795</td>\n",
       "      <td>40.758498</td>\n",
       "      <td>-73.937835</td>\n",
       "      <td>40.758415</td>\n",
       "      <td>208</td>\n",
       "    </tr>\n",
       "  </tbody>\n",
       "</table>\n",
       "</div>"
      ],
      "text/plain": [
       "        fare_amount           pickup_datetime  pickup_longitude  \\\n",
       "113038         11.7 2010-12-28 08:20:00+00:00        -73.937795   \n",
       "\n",
       "        pickup_latitude  dropoff_longitude  dropoff_latitude  passenger_count  \n",
       "113038        40.758498         -73.937835         40.758415              208  "
      ]
     },
     "execution_count": 15,
     "metadata": {},
     "output_type": "execute_result"
    }
   ],
   "source": [
    "df[df['passenger_count'] == df.passenger_count.max()]"
   ]
  },
  {
   "cell_type": "code",
   "execution_count": 16,
   "id": "c4b9f7e6",
   "metadata": {
    "execution": {
     "iopub.execute_input": "2024-07-23T19:52:09.013239Z",
     "iopub.status.busy": "2024-07-23T19:52:09.012846Z",
     "iopub.status.idle": "2024-07-23T19:52:09.029578Z",
     "shell.execute_reply": "2024-07-23T19:52:09.028423Z"
    },
    "papermill": {
     "duration": 0.036656,
     "end_time": "2024-07-23T19:52:09.032182",
     "exception": false,
     "start_time": "2024-07-23T19:52:08.995526",
     "status": "completed"
    },
    "tags": []
   },
   "outputs": [],
   "source": [
    "df = df[df['passenger_count'] < df.passenger_count.max()]"
   ]
  },
  {
   "cell_type": "code",
   "execution_count": 17,
   "id": "e4c383d7",
   "metadata": {
    "execution": {
     "iopub.execute_input": "2024-07-23T19:52:09.065294Z",
     "iopub.status.busy": "2024-07-23T19:52:09.064882Z",
     "iopub.status.idle": "2024-07-23T19:52:09.071617Z",
     "shell.execute_reply": "2024-07-23T19:52:09.070570Z"
    },
    "papermill": {
     "duration": 0.026326,
     "end_time": "2024-07-23T19:52:09.074068",
     "exception": false,
     "start_time": "2024-07-23T19:52:09.047742",
     "status": "completed"
    },
    "tags": []
   },
   "outputs": [
    {
     "data": {
      "text/plain": [
       "(199976, 7)"
      ]
     },
     "execution_count": 17,
     "metadata": {},
     "output_type": "execute_result"
    }
   ],
   "source": [
    "df.shape"
   ]
  },
  {
   "cell_type": "code",
   "execution_count": 18,
   "id": "53b5ab07",
   "metadata": {
    "execution": {
     "iopub.execute_input": "2024-07-23T19:52:09.106752Z",
     "iopub.status.busy": "2024-07-23T19:52:09.106400Z",
     "iopub.status.idle": "2024-07-23T19:52:09.358452Z",
     "shell.execute_reply": "2024-07-23T19:52:09.357200Z"
    },
    "papermill": {
     "duration": 0.271405,
     "end_time": "2024-07-23T19:52:09.361177",
     "exception": false,
     "start_time": "2024-07-23T19:52:09.089772",
     "status": "completed"
    },
    "tags": []
   },
   "outputs": [
    {
     "data": {
      "text/plain": [
       "<Axes: >"
      ]
     },
     "execution_count": 18,
     "metadata": {},
     "output_type": "execute_result"
    },
    {
     "data": {
      "image/png": "[encoded data removed]",
      "text/plain": [
       "<Figure size 640x480 with 1 Axes>"
      ]
     },
     "metadata": {},
     "output_type": "display_data"
    }
   ],
   "source": [
    "df['fare_amount'].plot(kind='box')"
   ]
  },
  {
   "cell_type": "code",
   "execution_count": 19,
   "id": "b5dafd24",
   "metadata": {
    "execution": {
     "iopub.execute_input": "2024-07-23T19:52:09.394418Z",
     "iopub.status.busy": "2024-07-23T19:52:09.394002Z",
     "iopub.status.idle": "2024-07-23T19:52:09.416788Z",
     "shell.execute_reply": "2024-07-23T19:52:09.415678Z"
    },
    "papermill": {
     "duration": 0.042573,
     "end_time": "2024-07-23T19:52:09.419347",
     "exception": false,
     "start_time": "2024-07-23T19:52:09.376774",
     "status": "completed"
    },
    "tags": []
   },
   "outputs": [
    {
     "name": "stdout",
     "output_type": "stream",
     "text": [
      "lower bound -3.75\n",
      "upper bound 22.25\n"
     ]
    }
   ],
   "source": [
    "iqr = df.fare_amount.quantile(0.75) - df.fare_amount.quantile(0.25)\n",
    "lower_bound = df.fare_amount.quantile(0.25) - iqr * 1.5\n",
    "upper_bound = df.fare_amount.quantile(0.75) + iqr * 1.5\n",
    "print(\"lower bound\", lower_bound)\n",
    "print(\"upper bound\", upper_bound)"
   ]
  },
  {
   "cell_type": "code",
   "execution_count": 20,
   "id": "2ee8263f",
   "metadata": {
    "execution": {
     "iopub.execute_input": "2024-07-23T19:52:09.452150Z",
     "iopub.status.busy": "2024-07-23T19:52:09.451784Z",
     "iopub.status.idle": "2024-07-23T19:52:09.466901Z",
     "shell.execute_reply": "2024-07-23T19:52:09.465835Z"
    },
    "papermill": {
     "duration": 0.034222,
     "end_time": "2024-07-23T19:52:09.469190",
     "exception": false,
     "start_time": "2024-07-23T19:52:09.434968",
     "status": "completed"
    },
    "tags": []
   },
   "outputs": [
    {
     "data": {
      "text/html": [
       "<div>\n",
       "<style scoped>\n",
       "    .dataframe tbody tr th:only-of-type {\n",
       "        vertical-align: middle;\n",
       "    }\n",
       "\n",
       "    .dataframe tbody tr th {\n",
       "        vertical-align: top;\n",
       "    }\n",
       "\n",
       "    .dataframe thead th {\n",
       "        text-align: right;\n",
       "    }\n",
       "</style>\n",
       "<table border=\"1\" class=\"dataframe\">\n",
       "  <thead>\n",
       "    <tr style=\"text-align: right;\">\n",
       "      <th></th>\n",
       "      <th>fare_amount</th>\n",
       "      <th>pickup_datetime</th>\n",
       "      <th>pickup_longitude</th>\n",
       "      <th>pickup_latitude</th>\n",
       "      <th>dropoff_longitude</th>\n",
       "      <th>dropoff_latitude</th>\n",
       "      <th>passenger_count</th>\n",
       "    </tr>\n",
       "  </thead>\n",
       "  <tbody>\n",
       "    <tr>\n",
       "      <th>21658</th>\n",
       "      <td>0.01</td>\n",
       "      <td>2015-05-31 16:13:41+00:00</td>\n",
       "      <td>-73.991692</td>\n",
       "      <td>40.770802</td>\n",
       "      <td>-73.991692</td>\n",
       "      <td>40.770824</td>\n",
       "      <td>1</td>\n",
       "    </tr>\n",
       "    <tr>\n",
       "      <th>191228</th>\n",
       "      <td>0.01</td>\n",
       "      <td>2010-03-08 18:44:57+00:00</td>\n",
       "      <td>-74.000523</td>\n",
       "      <td>40.725868</td>\n",
       "      <td>-73.956960</td>\n",
       "      <td>40.780855</td>\n",
       "      <td>1</td>\n",
       "    </tr>\n",
       "  </tbody>\n",
       "</table>\n",
       "</div>"
      ],
      "text/plain": [
       "        fare_amount           pickup_datetime  pickup_longitude  \\\n",
       "21658          0.01 2015-05-31 16:13:41+00:00        -73.991692   \n",
       "191228         0.01 2010-03-08 18:44:57+00:00        -74.000523   \n",
       "\n",
       "        pickup_latitude  dropoff_longitude  dropoff_latitude  passenger_count  \n",
       "21658         40.770802         -73.991692         40.770824                1  \n",
       "191228        40.725868         -73.956960         40.780855                1  "
      ]
     },
     "execution_count": 20,
     "metadata": {},
     "output_type": "execute_result"
    }
   ],
   "source": [
    "df[df['fare_amount'] == df.fare_amount.min()].head()"
   ]
  },
  {
   "cell_type": "code",
   "execution_count": 21,
   "id": "37610757",
   "metadata": {
    "execution": {
     "iopub.execute_input": "2024-07-23T19:52:09.504175Z",
     "iopub.status.busy": "2024-07-23T19:52:09.503758Z",
     "iopub.status.idle": "2024-07-23T19:52:09.519744Z",
     "shell.execute_reply": "2024-07-23T19:52:09.518485Z"
    },
    "papermill": {
     "duration": 0.036381,
     "end_time": "2024-07-23T19:52:09.521969",
     "exception": false,
     "start_time": "2024-07-23T19:52:09.485588",
     "status": "completed"
    },
    "tags": []
   },
   "outputs": [
    {
     "data": {
      "text/html": [
       "<div>\n",
       "<style scoped>\n",
       "    .dataframe tbody tr th:only-of-type {\n",
       "        vertical-align: middle;\n",
       "    }\n",
       "\n",
       "    .dataframe tbody tr th {\n",
       "        vertical-align: top;\n",
       "    }\n",
       "\n",
       "    .dataframe thead th {\n",
       "        text-align: right;\n",
       "    }\n",
       "</style>\n",
       "<table border=\"1\" class=\"dataframe\">\n",
       "  <thead>\n",
       "    <tr style=\"text-align: right;\">\n",
       "      <th></th>\n",
       "      <th>fare_amount</th>\n",
       "      <th>pickup_datetime</th>\n",
       "      <th>pickup_longitude</th>\n",
       "      <th>pickup_latitude</th>\n",
       "      <th>dropoff_longitude</th>\n",
       "      <th>dropoff_latitude</th>\n",
       "      <th>passenger_count</th>\n",
       "    </tr>\n",
       "  </thead>\n",
       "  <tbody>\n",
       "    <tr>\n",
       "      <th>170081</th>\n",
       "      <td>499.0</td>\n",
       "      <td>2011-04-10 04:10:00+00:00</td>\n",
       "      <td>-73.968377</td>\n",
       "      <td>40.764602</td>\n",
       "      <td>-73.968368</td>\n",
       "      <td>40.7646</td>\n",
       "      <td>1</td>\n",
       "    </tr>\n",
       "  </tbody>\n",
       "</table>\n",
       "</div>"
      ],
      "text/plain": [
       "        fare_amount           pickup_datetime  pickup_longitude  \\\n",
       "170081        499.0 2011-04-10 04:10:00+00:00        -73.968377   \n",
       "\n",
       "        pickup_latitude  dropoff_longitude  dropoff_latitude  passenger_count  \n",
       "170081        40.764602         -73.968368           40.7646                1  "
      ]
     },
     "execution_count": 21,
     "metadata": {},
     "output_type": "execute_result"
    }
   ],
   "source": [
    "df[df['fare_amount'] == df.fare_amount.max()].head()"
   ]
  },
  {
   "cell_type": "code",
   "execution_count": 22,
   "id": "6b79aade",
   "metadata": {
    "execution": {
     "iopub.execute_input": "2024-07-23T19:52:09.555900Z",
     "iopub.status.busy": "2024-07-23T19:52:09.555549Z",
     "iopub.status.idle": "2024-07-23T19:52:09.595404Z",
     "shell.execute_reply": "2024-07-23T19:52:09.594407Z"
    },
    "papermill": {
     "duration": 0.059975,
     "end_time": "2024-07-23T19:52:09.597970",
     "exception": false,
     "start_time": "2024-07-23T19:52:09.537995",
     "status": "completed"
    },
    "tags": []
   },
   "outputs": [],
   "source": [
    "# Valid latitudes and longitudes\n",
    "df = df[(df['pickup_longitude'] >= -180) & (df['pickup_longitude'] <= 180)]\n",
    "df = df[(df['pickup_latitude'] >= -90) & (df['pickup_latitude'] <= 90)]\n",
    "\n",
    "df = df[(df['dropoff_longitude'] >= -180) & (df['dropoff_longitude'] <= 180)]\n",
    "df = df[(df['dropoff_latitude'] >= -90) & (df['dropoff_latitude'] <= 90)]"
   ]
  },
  {
   "cell_type": "code",
   "execution_count": 23,
   "id": "b57e5d55",
   "metadata": {
    "execution": {
     "iopub.execute_input": "2024-07-23T19:52:09.690382Z",
     "iopub.status.busy": "2024-07-23T19:52:09.690006Z",
     "iopub.status.idle": "2024-07-23T19:52:09.714322Z",
     "shell.execute_reply": "2024-07-23T19:52:09.713170Z"
    },
    "papermill": {
     "duration": 0.044266,
     "end_time": "2024-07-23T19:52:09.716837",
     "exception": false,
     "start_time": "2024-07-23T19:52:09.672571",
     "status": "completed"
    },
    "tags": []
   },
   "outputs": [
    {
     "data": {
      "text/html": [
       "<div>\n",
       "<style scoped>\n",
       "    .dataframe tbody tr th:only-of-type {\n",
       "        vertical-align: middle;\n",
       "    }\n",
       "\n",
       "    .dataframe tbody tr th {\n",
       "        vertical-align: top;\n",
       "    }\n",
       "\n",
       "    .dataframe thead th {\n",
       "        text-align: right;\n",
       "    }\n",
       "</style>\n",
       "<table border=\"1\" class=\"dataframe\">\n",
       "  <thead>\n",
       "    <tr style=\"text-align: right;\">\n",
       "      <th></th>\n",
       "      <th>fare_amount</th>\n",
       "      <th>pickup_datetime</th>\n",
       "      <th>pickup_longitude</th>\n",
       "      <th>pickup_latitude</th>\n",
       "      <th>dropoff_longitude</th>\n",
       "      <th>dropoff_latitude</th>\n",
       "      <th>passenger_count</th>\n",
       "    </tr>\n",
       "  </thead>\n",
       "  <tbody>\n",
       "    <tr>\n",
       "      <th>0</th>\n",
       "      <td>7.5</td>\n",
       "      <td>2015-05-07 19:52:06+00:00</td>\n",
       "      <td>-73.999817</td>\n",
       "      <td>40.738354</td>\n",
       "      <td>-73.999512</td>\n",
       "      <td>40.723217</td>\n",
       "      <td>1</td>\n",
       "    </tr>\n",
       "    <tr>\n",
       "      <th>1</th>\n",
       "      <td>7.7</td>\n",
       "      <td>2009-07-17 20:04:56+00:00</td>\n",
       "      <td>-73.994355</td>\n",
       "      <td>40.728225</td>\n",
       "      <td>-73.994710</td>\n",
       "      <td>40.750325</td>\n",
       "      <td>1</td>\n",
       "    </tr>\n",
       "    <tr>\n",
       "      <th>2</th>\n",
       "      <td>12.9</td>\n",
       "      <td>2009-08-24 21:45:00+00:00</td>\n",
       "      <td>-74.005043</td>\n",
       "      <td>40.740770</td>\n",
       "      <td>-73.962565</td>\n",
       "      <td>40.772647</td>\n",
       "      <td>1</td>\n",
       "    </tr>\n",
       "    <tr>\n",
       "      <th>3</th>\n",
       "      <td>5.3</td>\n",
       "      <td>2009-06-26 08:22:21+00:00</td>\n",
       "      <td>-73.976124</td>\n",
       "      <td>40.790844</td>\n",
       "      <td>-73.965316</td>\n",
       "      <td>40.803349</td>\n",
       "      <td>3</td>\n",
       "    </tr>\n",
       "    <tr>\n",
       "      <th>4</th>\n",
       "      <td>16.0</td>\n",
       "      <td>2014-08-28 17:47:00+00:00</td>\n",
       "      <td>-73.925023</td>\n",
       "      <td>40.744085</td>\n",
       "      <td>-73.973082</td>\n",
       "      <td>40.761247</td>\n",
       "      <td>5</td>\n",
       "    </tr>\n",
       "    <tr>\n",
       "      <th>...</th>\n",
       "      <td>...</td>\n",
       "      <td>...</td>\n",
       "      <td>...</td>\n",
       "      <td>...</td>\n",
       "      <td>...</td>\n",
       "      <td>...</td>\n",
       "      <td>...</td>\n",
       "    </tr>\n",
       "    <tr>\n",
       "      <th>199994</th>\n",
       "      <td>12.0</td>\n",
       "      <td>2014-01-31 14:42:00+00:00</td>\n",
       "      <td>-73.983070</td>\n",
       "      <td>40.760770</td>\n",
       "      <td>-73.972972</td>\n",
       "      <td>40.754177</td>\n",
       "      <td>1</td>\n",
       "    </tr>\n",
       "    <tr>\n",
       "      <th>199995</th>\n",
       "      <td>3.0</td>\n",
       "      <td>2012-10-28 10:49:00+00:00</td>\n",
       "      <td>-73.987042</td>\n",
       "      <td>40.739367</td>\n",
       "      <td>-73.986525</td>\n",
       "      <td>40.740297</td>\n",
       "      <td>1</td>\n",
       "    </tr>\n",
       "    <tr>\n",
       "      <th>199996</th>\n",
       "      <td>7.5</td>\n",
       "      <td>2014-03-14 01:09:00+00:00</td>\n",
       "      <td>-73.984722</td>\n",
       "      <td>40.736837</td>\n",
       "      <td>-74.006672</td>\n",
       "      <td>40.739620</td>\n",
       "      <td>1</td>\n",
       "    </tr>\n",
       "    <tr>\n",
       "      <th>199998</th>\n",
       "      <td>14.5</td>\n",
       "      <td>2015-05-20 14:56:25+00:00</td>\n",
       "      <td>-73.997124</td>\n",
       "      <td>40.725452</td>\n",
       "      <td>-73.983215</td>\n",
       "      <td>40.695416</td>\n",
       "      <td>1</td>\n",
       "    </tr>\n",
       "    <tr>\n",
       "      <th>199999</th>\n",
       "      <td>14.1</td>\n",
       "      <td>2010-05-15 04:08:00+00:00</td>\n",
       "      <td>-73.984395</td>\n",
       "      <td>40.720077</td>\n",
       "      <td>-73.985508</td>\n",
       "      <td>40.768793</td>\n",
       "      <td>1</td>\n",
       "    </tr>\n",
       "  </tbody>\n",
       "</table>\n",
       "<p>182810 rows × 7 columns</p>\n",
       "</div>"
      ],
      "text/plain": [
       "        fare_amount           pickup_datetime  pickup_longitude  \\\n",
       "0               7.5 2015-05-07 19:52:06+00:00        -73.999817   \n",
       "1               7.7 2009-07-17 20:04:56+00:00        -73.994355   \n",
       "2              12.9 2009-08-24 21:45:00+00:00        -74.005043   \n",
       "3               5.3 2009-06-26 08:22:21+00:00        -73.976124   \n",
       "4              16.0 2014-08-28 17:47:00+00:00        -73.925023   \n",
       "...             ...                       ...               ...   \n",
       "199994         12.0 2014-01-31 14:42:00+00:00        -73.983070   \n",
       "199995          3.0 2012-10-28 10:49:00+00:00        -73.987042   \n",
       "199996          7.5 2014-03-14 01:09:00+00:00        -73.984722   \n",
       "199998         14.5 2015-05-20 14:56:25+00:00        -73.997124   \n",
       "199999         14.1 2010-05-15 04:08:00+00:00        -73.984395   \n",
       "\n",
       "        pickup_latitude  dropoff_longitude  dropoff_latitude  passenger_count  \n",
       "0             40.738354         -73.999512         40.723217                1  \n",
       "1             40.728225         -73.994710         40.750325                1  \n",
       "2             40.740770         -73.962565         40.772647                1  \n",
       "3             40.790844         -73.965316         40.803349                3  \n",
       "4             40.744085         -73.973082         40.761247                5  \n",
       "...                 ...                ...               ...              ...  \n",
       "199994        40.760770         -73.972972         40.754177                1  \n",
       "199995        40.739367         -73.986525         40.740297                1  \n",
       "199996        40.736837         -74.006672         40.739620                1  \n",
       "199998        40.725452         -73.983215         40.695416                1  \n",
       "199999        40.720077         -73.985508         40.768793                1  \n",
       "\n",
       "[182810 rows x 7 columns]"
      ]
     },
     "execution_count": 23,
     "metadata": {},
     "output_type": "execute_result"
    }
   ],
   "source": [
    "df[(df['fare_amount'] > 0) & (df['fare_amount'] < upper_bound)]"
   ]
  },
  {
   "cell_type": "code",
   "execution_count": 24,
   "id": "91601633",
   "metadata": {
    "execution": {
     "iopub.execute_input": "2024-07-23T19:52:09.752953Z",
     "iopub.status.busy": "2024-07-23T19:52:09.752583Z",
     "iopub.status.idle": "2024-07-23T19:52:10.007830Z",
     "shell.execute_reply": "2024-07-23T19:52:10.006667Z"
    },
    "papermill": {
     "duration": 0.275811,
     "end_time": "2024-07-23T19:52:10.010264",
     "exception": false,
     "start_time": "2024-07-23T19:52:09.734453",
     "status": "completed"
    },
    "tags": []
   },
   "outputs": [
    {
     "data": {
      "text/plain": [
       "<Axes: >"
      ]
     },
     "execution_count": 24,
     "metadata": {},
     "output_type": "execute_result"
    },
    {
     "data": {
      "image/png": "[encoded data removed]",
      "text/plain": [
       "<Figure size 640x480 with 1 Axes>"
      ]
     },
     "metadata": {},
     "output_type": "display_data"
    }
   ],
   "source": [
    "df['fare_amount'].plot(kind='box')"
   ]
  },
  {
   "cell_type": "code",
   "execution_count": 25,
   "id": "ed682b49",
   "metadata": {
    "execution": {
     "iopub.execute_input": "2024-07-23T19:52:10.046060Z",
     "iopub.status.busy": "2024-07-23T19:52:10.045316Z",
     "iopub.status.idle": "2024-07-23T19:52:15.113254Z",
     "shell.execute_reply": "2024-07-23T19:52:15.112098Z"
    },
    "papermill": {
     "duration": 5.088398,
     "end_time": "2024-07-23T19:52:15.115617",
     "exception": false,
     "start_time": "2024-07-23T19:52:10.027219",
     "status": "completed"
    },
    "tags": []
   },
   "outputs": [
    {
     "data": {
      "text/plain": [
       "<Axes: title={'center': 'Density curve of fare amount'}, ylabel='Density'>"
      ]
     },
     "execution_count": 25,
     "metadata": {},
     "output_type": "execute_result"
    },
    {
     "data": {
      "image/png": "[encoded data removed]",
      "text/plain": [
       "<Figure size 640x480 with 1 Axes>"
      ]
     },
     "metadata": {},
     "output_type": "display_data"
    }
   ],
   "source": [
    "df['fare_amount'].plot(kind='kde', title=\"Density curve of fare amount\")"
   ]
  },
  {
   "cell_type": "code",
   "execution_count": 26,
   "id": "5fe3d580",
   "metadata": {
    "execution": {
     "iopub.execute_input": "2024-07-23T19:52:15.152108Z",
     "iopub.status.busy": "2024-07-23T19:52:15.151755Z",
     "iopub.status.idle": "2024-07-23T19:52:15.421389Z",
     "shell.execute_reply": "2024-07-23T19:52:15.420101Z"
    },
    "papermill": {
     "duration": 0.29073,
     "end_time": "2024-07-23T19:52:15.423918",
     "exception": false,
     "start_time": "2024-07-23T19:52:15.133188",
     "status": "completed"
    },
    "tags": []
   },
   "outputs": [
    {
     "data": {
      "text/plain": [
       "<Axes: ylabel='Frequency'>"
      ]
     },
     "execution_count": 26,
     "metadata": {},
     "output_type": "execute_result"
    },
    {
     "data": {
      "image/png": "[encoded data removed]",
      "text/plain": [
       "<Figure size 1400x700 with 1 Axes>"
      ]
     },
     "metadata": {},
     "output_type": "display_data"
    }
   ],
   "source": [
    "df['fare_amount'].plot(kind='hist', bins=3, figsize=(14,7))"
   ]
  },
  {
   "cell_type": "code",
   "execution_count": 27,
   "id": "bd2e8de1",
   "metadata": {
    "execution": {
     "iopub.execute_input": "2024-07-23T19:52:15.461800Z",
     "iopub.status.busy": "2024-07-23T19:52:15.461412Z",
     "iopub.status.idle": "2024-07-23T19:52:15.476785Z",
     "shell.execute_reply": "2024-07-23T19:52:15.475705Z"
    },
    "papermill": {
     "duration": 0.037037,
     "end_time": "2024-07-23T19:52:15.479144",
     "exception": false,
     "start_time": "2024-07-23T19:52:15.442107",
     "status": "completed"
    },
    "tags": []
   },
   "outputs": [
    {
     "data": {
      "text/html": [
       "<div>\n",
       "<style scoped>\n",
       "    .dataframe tbody tr th:only-of-type {\n",
       "        vertical-align: middle;\n",
       "    }\n",
       "\n",
       "    .dataframe tbody tr th {\n",
       "        vertical-align: top;\n",
       "    }\n",
       "\n",
       "    .dataframe thead th {\n",
       "        text-align: right;\n",
       "    }\n",
       "</style>\n",
       "<table border=\"1\" class=\"dataframe\">\n",
       "  <thead>\n",
       "    <tr style=\"text-align: right;\">\n",
       "      <th></th>\n",
       "      <th>fare_amount</th>\n",
       "      <th>pickup_datetime</th>\n",
       "      <th>pickup_longitude</th>\n",
       "      <th>pickup_latitude</th>\n",
       "      <th>dropoff_longitude</th>\n",
       "      <th>dropoff_latitude</th>\n",
       "      <th>passenger_count</th>\n",
       "    </tr>\n",
       "  </thead>\n",
       "  <tbody>\n",
       "    <tr>\n",
       "      <th>21658</th>\n",
       "      <td>0.01</td>\n",
       "      <td>2015-05-31 16:13:41+00:00</td>\n",
       "      <td>-73.991692</td>\n",
       "      <td>40.770802</td>\n",
       "      <td>-73.991692</td>\n",
       "      <td>40.770824</td>\n",
       "      <td>1</td>\n",
       "    </tr>\n",
       "    <tr>\n",
       "      <th>191228</th>\n",
       "      <td>0.01</td>\n",
       "      <td>2010-03-08 18:44:57+00:00</td>\n",
       "      <td>-74.000523</td>\n",
       "      <td>40.725868</td>\n",
       "      <td>-73.956960</td>\n",
       "      <td>40.780855</td>\n",
       "      <td>1</td>\n",
       "    </tr>\n",
       "  </tbody>\n",
       "</table>\n",
       "</div>"
      ],
      "text/plain": [
       "        fare_amount           pickup_datetime  pickup_longitude  \\\n",
       "21658          0.01 2015-05-31 16:13:41+00:00        -73.991692   \n",
       "191228         0.01 2010-03-08 18:44:57+00:00        -74.000523   \n",
       "\n",
       "        pickup_latitude  dropoff_longitude  dropoff_latitude  passenger_count  \n",
       "21658         40.770802         -73.991692         40.770824                1  \n",
       "191228        40.725868         -73.956960         40.780855                1  "
      ]
     },
     "execution_count": 27,
     "metadata": {},
     "output_type": "execute_result"
    }
   ],
   "source": [
    "df[df['fare_amount'] == df.fare_amount.min()].head()"
   ]
  },
  {
   "cell_type": "code",
   "execution_count": 28,
   "id": "28d33e48",
   "metadata": {
    "execution": {
     "iopub.execute_input": "2024-07-23T19:52:15.517166Z",
     "iopub.status.busy": "2024-07-23T19:52:15.516765Z",
     "iopub.status.idle": "2024-07-23T19:52:28.975322Z",
     "shell.execute_reply": "2024-07-23T19:52:28.973805Z"
    },
    "papermill": {
     "duration": 13.480865,
     "end_time": "2024-07-23T19:52:28.978310",
     "exception": false,
     "start_time": "2024-07-23T19:52:15.497445",
     "status": "completed"
    },
    "tags": []
   },
   "outputs": [
    {
     "name": "stdout",
     "output_type": "stream",
     "text": [
      "Requirement already satisfied: geopy in /opt/conda/lib/python3.10/site-packages (2.4.1)\r\n",
      "Requirement already satisfied: geographiclib<3,>=1.52 in /opt/conda/lib/python3.10/site-packages (from geopy) (2.0)\r\n"
     ]
    }
   ],
   "source": [
    "!pip install geopy"
   ]
  },
  {
   "cell_type": "code",
   "execution_count": 29,
   "id": "7aeca226",
   "metadata": {
    "execution": {
     "iopub.execute_input": "2024-07-23T19:52:29.017721Z",
     "iopub.status.busy": "2024-07-23T19:52:29.017268Z",
     "iopub.status.idle": "2024-07-23T19:53:18.691476Z",
     "shell.execute_reply": "2024-07-23T19:53:18.690407Z"
    },
    "papermill": {
     "duration": 49.696735,
     "end_time": "2024-07-23T19:53:18.694102",
     "exception": false,
     "start_time": "2024-07-23T19:52:28.997367",
     "status": "completed"
    },
    "tags": []
   },
   "outputs": [],
   "source": [
    "# Calculate the distance between the pickup and the dropoff location\n",
    "from geopy.distance import geodesic\n",
    "\n",
    "def calculate_distance(x):\n",
    "    return geodesic((x['pickup_latitude'], x['pickup_longitude']), (x['dropoff_latitude'], x['dropoff_longitude'])).km\n",
    "\n",
    "df['distance'] = df.apply(lambda x : calculate_distance(x), axis = 1)"
   ]
  },
  {
   "cell_type": "code",
   "execution_count": 30,
   "id": "d0ff3a34",
   "metadata": {
    "execution": {
     "iopub.execute_input": "2024-07-23T19:53:18.734501Z",
     "iopub.status.busy": "2024-07-23T19:53:18.733472Z",
     "iopub.status.idle": "2024-07-23T19:53:18.749835Z",
     "shell.execute_reply": "2024-07-23T19:53:18.748500Z"
    },
    "papermill": {
     "duration": 0.039354,
     "end_time": "2024-07-23T19:53:18.752294",
     "exception": false,
     "start_time": "2024-07-23T19:53:18.712940",
     "status": "completed"
    },
    "tags": []
   },
   "outputs": [
    {
     "data": {
      "text/html": [
       "<div>\n",
       "<style scoped>\n",
       "    .dataframe tbody tr th:only-of-type {\n",
       "        vertical-align: middle;\n",
       "    }\n",
       "\n",
       "    .dataframe tbody tr th {\n",
       "        vertical-align: top;\n",
       "    }\n",
       "\n",
       "    .dataframe thead th {\n",
       "        text-align: right;\n",
       "    }\n",
       "</style>\n",
       "<table border=\"1\" class=\"dataframe\">\n",
       "  <thead>\n",
       "    <tr style=\"text-align: right;\">\n",
       "      <th></th>\n",
       "      <th>fare_amount</th>\n",
       "      <th>pickup_datetime</th>\n",
       "      <th>pickup_longitude</th>\n",
       "      <th>pickup_latitude</th>\n",
       "      <th>dropoff_longitude</th>\n",
       "      <th>dropoff_latitude</th>\n",
       "      <th>passenger_count</th>\n",
       "      <th>distance</th>\n",
       "    </tr>\n",
       "  </thead>\n",
       "  <tbody>\n",
       "    <tr>\n",
       "      <th>0</th>\n",
       "      <td>7.5</td>\n",
       "      <td>2015-05-07 19:52:06+00:00</td>\n",
       "      <td>-73.999817</td>\n",
       "      <td>40.738354</td>\n",
       "      <td>-73.999512</td>\n",
       "      <td>40.723217</td>\n",
       "      <td>1</td>\n",
       "      <td>1.681111</td>\n",
       "    </tr>\n",
       "    <tr>\n",
       "      <th>1</th>\n",
       "      <td>7.7</td>\n",
       "      <td>2009-07-17 20:04:56+00:00</td>\n",
       "      <td>-73.994355</td>\n",
       "      <td>40.728225</td>\n",
       "      <td>-73.994710</td>\n",
       "      <td>40.750325</td>\n",
       "      <td>1</td>\n",
       "      <td>2.454363</td>\n",
       "    </tr>\n",
       "    <tr>\n",
       "      <th>2</th>\n",
       "      <td>12.9</td>\n",
       "      <td>2009-08-24 21:45:00+00:00</td>\n",
       "      <td>-74.005043</td>\n",
       "      <td>40.740770</td>\n",
       "      <td>-73.962565</td>\n",
       "      <td>40.772647</td>\n",
       "      <td>1</td>\n",
       "      <td>5.039603</td>\n",
       "    </tr>\n",
       "    <tr>\n",
       "      <th>3</th>\n",
       "      <td>5.3</td>\n",
       "      <td>2009-06-26 08:22:21+00:00</td>\n",
       "      <td>-73.976124</td>\n",
       "      <td>40.790844</td>\n",
       "      <td>-73.965316</td>\n",
       "      <td>40.803349</td>\n",
       "      <td>3</td>\n",
       "      <td>1.661442</td>\n",
       "    </tr>\n",
       "    <tr>\n",
       "      <th>4</th>\n",
       "      <td>16.0</td>\n",
       "      <td>2014-08-28 17:47:00+00:00</td>\n",
       "      <td>-73.925023</td>\n",
       "      <td>40.744085</td>\n",
       "      <td>-73.973082</td>\n",
       "      <td>40.761247</td>\n",
       "      <td>5</td>\n",
       "      <td>4.483730</td>\n",
       "    </tr>\n",
       "  </tbody>\n",
       "</table>\n",
       "</div>"
      ],
      "text/plain": [
       "   fare_amount           pickup_datetime  pickup_longitude  pickup_latitude  \\\n",
       "0          7.5 2015-05-07 19:52:06+00:00        -73.999817        40.738354   \n",
       "1          7.7 2009-07-17 20:04:56+00:00        -73.994355        40.728225   \n",
       "2         12.9 2009-08-24 21:45:00+00:00        -74.005043        40.740770   \n",
       "3          5.3 2009-06-26 08:22:21+00:00        -73.976124        40.790844   \n",
       "4         16.0 2014-08-28 17:47:00+00:00        -73.925023        40.744085   \n",
       "\n",
       "   dropoff_longitude  dropoff_latitude  passenger_count  distance  \n",
       "0         -73.999512         40.723217                1  1.681111  \n",
       "1         -73.994710         40.750325                1  2.454363  \n",
       "2         -73.962565         40.772647                1  5.039603  \n",
       "3         -73.965316         40.803349                3  1.661442  \n",
       "4         -73.973082         40.761247                5  4.483730  "
      ]
     },
     "execution_count": 30,
     "metadata": {},
     "output_type": "execute_result"
    }
   ],
   "source": [
    "df.head()"
   ]
  },
  {
   "cell_type": "code",
   "execution_count": 31,
   "id": "a2f6c612",
   "metadata": {
    "execution": {
     "iopub.execute_input": "2024-07-23T19:53:18.791116Z",
     "iopub.status.busy": "2024-07-23T19:53:18.790680Z",
     "iopub.status.idle": "2024-07-23T19:53:22.769192Z",
     "shell.execute_reply": "2024-07-23T19:53:22.768068Z"
    },
    "papermill": {
     "duration": 4.000838,
     "end_time": "2024-07-23T19:53:22.771599",
     "exception": false,
     "start_time": "2024-07-23T19:53:18.770761",
     "status": "completed"
    },
    "tags": []
   },
   "outputs": [
    {
     "data": {
      "text/plain": [
       "<Axes: title={'center': 'Density curve of ride distance'}, ylabel='Density'>"
      ]
     },
     "execution_count": 31,
     "metadata": {},
     "output_type": "execute_result"
    },
    {
     "data": {
      "image/png": "[encoded data removed]",
      "text/plain": [
       "<Figure size 640x480 with 1 Axes>"
      ]
     },
     "metadata": {},
     "output_type": "display_data"
    }
   ],
   "source": [
    "df['distance'].plot(kind='kde', title='Density curve of ride distance')"
   ]
  },
  {
   "cell_type": "code",
   "execution_count": 32,
   "id": "d77a3f0b",
   "metadata": {
    "execution": {
     "iopub.execute_input": "2024-07-23T19:53:22.812110Z",
     "iopub.status.busy": "2024-07-23T19:53:22.811739Z",
     "iopub.status.idle": "2024-07-23T19:53:22.816381Z",
     "shell.execute_reply": "2024-07-23T19:53:22.815344Z"
    },
    "papermill": {
     "duration": 0.027608,
     "end_time": "2024-07-23T19:53:22.818509",
     "exception": false,
     "start_time": "2024-07-23T19:53:22.790901",
     "status": "completed"
    },
    "tags": []
   },
   "outputs": [],
   "source": [
    "import datetime as dt"
   ]
  },
  {
   "cell_type": "code",
   "execution_count": 33,
   "id": "a448ac31",
   "metadata": {
    "execution": {
     "iopub.execute_input": "2024-07-23T19:53:22.858964Z",
     "iopub.status.busy": "2024-07-23T19:53:22.858571Z",
     "iopub.status.idle": "2024-07-23T19:53:23.086934Z",
     "shell.execute_reply": "2024-07-23T19:53:23.085785Z"
    },
    "papermill": {
     "duration": 0.251752,
     "end_time": "2024-07-23T19:53:23.089594",
     "exception": false,
     "start_time": "2024-07-23T19:53:22.837842",
     "status": "completed"
    },
    "tags": []
   },
   "outputs": [],
   "source": [
    "df['hour'] = df['pickup_datetime'].dt.hour\n",
    "df['day'] = df['pickup_datetime'].dt.day\n",
    "df['month'] = df['pickup_datetime'].dt.month\n",
    "df['day_of_week'] = df['pickup_datetime'].dt.dayofweek\n",
    "df['is_weekend'] = df['day_of_week'].apply(lambda x : 1 if x > 4 else 0)\n",
    "df['is_rush_hour'] = df['hour'].apply(lambda x : 1 if x in [7,8,9,19,20,21] else 0)"
   ]
  },
  {
   "cell_type": "code",
   "execution_count": 34,
   "id": "4abda64d",
   "metadata": {
    "execution": {
     "iopub.execute_input": "2024-07-23T19:53:23.129778Z",
     "iopub.status.busy": "2024-07-23T19:53:23.129011Z",
     "iopub.status.idle": "2024-07-23T19:53:24.365342Z",
     "shell.execute_reply": "2024-07-23T19:53:24.364183Z"
    },
    "papermill": {
     "duration": 1.260639,
     "end_time": "2024-07-23T19:53:24.369229",
     "exception": false,
     "start_time": "2024-07-23T19:53:23.108590",
     "status": "completed"
    },
    "tags": []
   },
   "outputs": [
    {
     "data": {
      "image/png": "[encoded data removed]",
      "text/plain": [
       "<Figure size 800x600 with 2 Axes>"
      ]
     },
     "metadata": {},
     "output_type": "display_data"
    }
   ],
   "source": [
    "import seaborn as sns\n",
    "import matplotlib.pyplot as plt\n",
    "\n",
    "corr_matrix = df.corr()\n",
    "\n",
    "plt.figure(figsize=(8,6))\n",
    "sns.heatmap(corr_matrix, annot=True, cmap='coolwarm', vmin=-1, vmax=1)\n",
    "plt.title(\"Correlation matrix\")\n",
    "plt.show()"
   ]
  },
  {
   "cell_type": "code",
   "execution_count": 35,
   "id": "3b1acc66",
   "metadata": {
    "execution": {
     "iopub.execute_input": "2024-07-23T19:53:24.414920Z",
     "iopub.status.busy": "2024-07-23T19:53:24.414480Z",
     "iopub.status.idle": "2024-07-23T19:53:24.435689Z",
     "shell.execute_reply": "2024-07-23T19:53:24.434615Z"
    },
    "papermill": {
     "duration": 0.047473,
     "end_time": "2024-07-23T19:53:24.438304",
     "exception": false,
     "start_time": "2024-07-23T19:53:24.390831",
     "status": "completed"
    },
    "tags": []
   },
   "outputs": [],
   "source": [
    "df.drop(['pickup_datetime'],axis=1, inplace=True)"
   ]
  },
  {
   "cell_type": "code",
   "execution_count": 36,
   "id": "9c6c2349",
   "metadata": {
    "execution": {
     "iopub.execute_input": "2024-07-23T19:53:24.485180Z",
     "iopub.status.busy": "2024-07-23T19:53:24.484777Z",
     "iopub.status.idle": "2024-07-23T19:53:24.501126Z",
     "shell.execute_reply": "2024-07-23T19:53:24.500149Z"
    },
    "papermill": {
     "duration": 0.041507,
     "end_time": "2024-07-23T19:53:24.503312",
     "exception": false,
     "start_time": "2024-07-23T19:53:24.461805",
     "status": "completed"
    },
    "tags": []
   },
   "outputs": [
    {
     "data": {
      "text/html": [
       "<div>\n",
       "<style scoped>\n",
       "    .dataframe tbody tr th:only-of-type {\n",
       "        vertical-align: middle;\n",
       "    }\n",
       "\n",
       "    .dataframe tbody tr th {\n",
       "        vertical-align: top;\n",
       "    }\n",
       "\n",
       "    .dataframe thead th {\n",
       "        text-align: right;\n",
       "    }\n",
       "</style>\n",
       "<table border=\"1\" class=\"dataframe\">\n",
       "  <thead>\n",
       "    <tr style=\"text-align: right;\">\n",
       "      <th></th>\n",
       "      <th>fare_amount</th>\n",
       "      <th>pickup_longitude</th>\n",
       "      <th>pickup_latitude</th>\n",
       "      <th>dropoff_longitude</th>\n",
       "      <th>dropoff_latitude</th>\n",
       "      <th>passenger_count</th>\n",
       "      <th>distance</th>\n",
       "      <th>hour</th>\n",
       "      <th>day</th>\n",
       "      <th>month</th>\n",
       "      <th>day_of_week</th>\n",
       "      <th>is_weekend</th>\n",
       "      <th>is_rush_hour</th>\n",
       "    </tr>\n",
       "  </thead>\n",
       "  <tbody>\n",
       "    <tr>\n",
       "      <th>0</th>\n",
       "      <td>7.5</td>\n",
       "      <td>-73.999817</td>\n",
       "      <td>40.738354</td>\n",
       "      <td>-73.999512</td>\n",
       "      <td>40.723217</td>\n",
       "      <td>1</td>\n",
       "      <td>1.681111</td>\n",
       "      <td>19</td>\n",
       "      <td>7</td>\n",
       "      <td>5</td>\n",
       "      <td>3</td>\n",
       "      <td>0</td>\n",
       "      <td>1</td>\n",
       "    </tr>\n",
       "    <tr>\n",
       "      <th>1</th>\n",
       "      <td>7.7</td>\n",
       "      <td>-73.994355</td>\n",
       "      <td>40.728225</td>\n",
       "      <td>-73.994710</td>\n",
       "      <td>40.750325</td>\n",
       "      <td>1</td>\n",
       "      <td>2.454363</td>\n",
       "      <td>20</td>\n",
       "      <td>17</td>\n",
       "      <td>7</td>\n",
       "      <td>4</td>\n",
       "      <td>0</td>\n",
       "      <td>1</td>\n",
       "    </tr>\n",
       "    <tr>\n",
       "      <th>2</th>\n",
       "      <td>12.9</td>\n",
       "      <td>-74.005043</td>\n",
       "      <td>40.740770</td>\n",
       "      <td>-73.962565</td>\n",
       "      <td>40.772647</td>\n",
       "      <td>1</td>\n",
       "      <td>5.039603</td>\n",
       "      <td>21</td>\n",
       "      <td>24</td>\n",
       "      <td>8</td>\n",
       "      <td>0</td>\n",
       "      <td>0</td>\n",
       "      <td>1</td>\n",
       "    </tr>\n",
       "    <tr>\n",
       "      <th>3</th>\n",
       "      <td>5.3</td>\n",
       "      <td>-73.976124</td>\n",
       "      <td>40.790844</td>\n",
       "      <td>-73.965316</td>\n",
       "      <td>40.803349</td>\n",
       "      <td>3</td>\n",
       "      <td>1.661442</td>\n",
       "      <td>8</td>\n",
       "      <td>26</td>\n",
       "      <td>6</td>\n",
       "      <td>4</td>\n",
       "      <td>0</td>\n",
       "      <td>1</td>\n",
       "    </tr>\n",
       "    <tr>\n",
       "      <th>4</th>\n",
       "      <td>16.0</td>\n",
       "      <td>-73.925023</td>\n",
       "      <td>40.744085</td>\n",
       "      <td>-73.973082</td>\n",
       "      <td>40.761247</td>\n",
       "      <td>5</td>\n",
       "      <td>4.483730</td>\n",
       "      <td>17</td>\n",
       "      <td>28</td>\n",
       "      <td>8</td>\n",
       "      <td>3</td>\n",
       "      <td>0</td>\n",
       "      <td>0</td>\n",
       "    </tr>\n",
       "  </tbody>\n",
       "</table>\n",
       "</div>"
      ],
      "text/plain": [
       "   fare_amount  pickup_longitude  pickup_latitude  dropoff_longitude  \\\n",
       "0          7.5        -73.999817        40.738354         -73.999512   \n",
       "1          7.7        -73.994355        40.728225         -73.994710   \n",
       "2         12.9        -74.005043        40.740770         -73.962565   \n",
       "3          5.3        -73.976124        40.790844         -73.965316   \n",
       "4         16.0        -73.925023        40.744085         -73.973082   \n",
       "\n",
       "   dropoff_latitude  passenger_count  distance  hour  day  month  day_of_week  \\\n",
       "0         40.723217                1  1.681111    19    7      5            3   \n",
       "1         40.750325                1  2.454363    20   17      7            4   \n",
       "2         40.772647                1  5.039603    21   24      8            0   \n",
       "3         40.803349                3  1.661442     8   26      6            4   \n",
       "4         40.761247                5  4.483730    17   28      8            3   \n",
       "\n",
       "   is_weekend  is_rush_hour  \n",
       "0           0             1  \n",
       "1           0             1  \n",
       "2           0             1  \n",
       "3           0             1  \n",
       "4           0             0  "
      ]
     },
     "execution_count": 36,
     "metadata": {},
     "output_type": "execute_result"
    }
   ],
   "source": [
    "df.head()"
   ]
  },
  {
   "cell_type": "code",
   "execution_count": 37,
   "id": "822ae33f",
   "metadata": {
    "execution": {
     "iopub.execute_input": "2024-07-23T19:53:24.550494Z",
     "iopub.status.busy": "2024-07-23T19:53:24.550111Z",
     "iopub.status.idle": "2024-07-23T19:53:24.556884Z",
     "shell.execute_reply": "2024-07-23T19:53:24.555739Z"
    },
    "papermill": {
     "duration": 0.032604,
     "end_time": "2024-07-23T19:53:24.559062",
     "exception": false,
     "start_time": "2024-07-23T19:53:24.526458",
     "status": "completed"
    },
    "tags": []
   },
   "outputs": [
    {
     "data": {
      "text/plain": [
       "(199964, 13)"
      ]
     },
     "execution_count": 37,
     "metadata": {},
     "output_type": "execute_result"
    }
   ],
   "source": [
    "df.shape"
   ]
  },
  {
   "cell_type": "code",
   "execution_count": 38,
   "id": "ea21672e",
   "metadata": {
    "execution": {
     "iopub.execute_input": "2024-07-23T19:53:24.604697Z",
     "iopub.status.busy": "2024-07-23T19:53:24.604317Z",
     "iopub.status.idle": "2024-07-23T19:53:25.388375Z",
     "shell.execute_reply": "2024-07-23T19:53:25.387327Z"
    },
    "papermill": {
     "duration": 0.81001,
     "end_time": "2024-07-23T19:53:25.391000",
     "exception": false,
     "start_time": "2024-07-23T19:53:24.580990",
     "status": "completed"
    },
    "tags": []
   },
   "outputs": [],
   "source": [
    "# Main prediction\n",
    "from sklearn.model_selection import train_test_split\n",
    "from sklearn.compose import ColumnTransformer\n",
    "from sklearn.pipeline import Pipeline\n",
    "from sklearn.preprocessing import StandardScaler, OneHotEncoder\n",
    "from sklearn.linear_model import LinearRegression\n",
    "from sklearn.ensemble import RandomForestRegressor\n",
    "from sklearn.metrics import mean_squared_error\n",
    "from sklearn.model_selection import cross_val_score\n",
    "from sklearn.model_selection import GridSearchCV\n",
    "import xgboost as xgb"
   ]
  },
  {
   "cell_type": "code",
   "execution_count": 39,
   "id": "c39f283b",
   "metadata": {
    "execution": {
     "iopub.execute_input": "2024-07-23T19:53:25.437074Z",
     "iopub.status.busy": "2024-07-23T19:53:25.436656Z",
     "iopub.status.idle": "2024-07-23T19:53:25.458062Z",
     "shell.execute_reply": "2024-07-23T19:53:25.456884Z"
    },
    "papermill": {
     "duration": 0.047805,
     "end_time": "2024-07-23T19:53:25.460960",
     "exception": false,
     "start_time": "2024-07-23T19:53:25.413155",
     "status": "completed"
    },
    "tags": []
   },
   "outputs": [],
   "source": [
    "x = df.drop('fare_amount', axis=1)\n",
    "y = df['fare_amount']"
   ]
  },
  {
   "cell_type": "code",
   "execution_count": 40,
   "id": "5cc8cf0c",
   "metadata": {
    "execution": {
     "iopub.execute_input": "2024-07-23T19:53:25.507258Z",
     "iopub.status.busy": "2024-07-23T19:53:25.506848Z",
     "iopub.status.idle": "2024-07-23T19:53:25.563595Z",
     "shell.execute_reply": "2024-07-23T19:53:25.562623Z"
    },
    "papermill": {
     "duration": 0.08261,
     "end_time": "2024-07-23T19:53:25.565980",
     "exception": false,
     "start_time": "2024-07-23T19:53:25.483370",
     "status": "completed"
    },
    "tags": []
   },
   "outputs": [],
   "source": [
    "X_train, X_test, y_train, y_test = train_test_split(x, y, test_size=0.2, random_state=42)"
   ]
  },
  {
   "cell_type": "code",
   "execution_count": 41,
   "id": "2e7748c6",
   "metadata": {
    "execution": {
     "iopub.execute_input": "2024-07-23T19:53:25.611709Z",
     "iopub.status.busy": "2024-07-23T19:53:25.611338Z",
     "iopub.status.idle": "2024-07-23T19:53:25.615982Z",
     "shell.execute_reply": "2024-07-23T19:53:25.614992Z"
    },
    "papermill": {
     "duration": 0.030118,
     "end_time": "2024-07-23T19:53:25.618073",
     "exception": false,
     "start_time": "2024-07-23T19:53:25.587955",
     "status": "completed"
    },
    "tags": []
   },
   "outputs": [],
   "source": [
    "numeric_features = ['passenger_count', 'pickup_logitude', 'pickup_latitude', 'dropoff_longitude', 'dropoff_latitude', 'distance', 'hour', 'day', 'month', 'day_of_week']"
   ]
  },
  {
   "cell_type": "code",
   "execution_count": 42,
   "id": "dc049d95",
   "metadata": {
    "execution": {
     "iopub.execute_input": "2024-07-23T19:53:25.663443Z",
     "iopub.status.busy": "2024-07-23T19:53:25.663032Z",
     "iopub.status.idle": "2024-07-23T19:53:25.668083Z",
     "shell.execute_reply": "2024-07-23T19:53:25.666937Z"
    },
    "papermill": {
     "duration": 0.030573,
     "end_time": "2024-07-23T19:53:25.670572",
     "exception": false,
     "start_time": "2024-07-23T19:53:25.639999",
     "status": "completed"
    },
    "tags": []
   },
   "outputs": [],
   "source": [
    "trf1 = ColumnTransformer([\n",
    "    ('num', StandardScaler(), slice(0,12))\n",
    "])"
   ]
  },
  {
   "cell_type": "code",
   "execution_count": 43,
   "id": "b9e31104",
   "metadata": {
    "execution": {
     "iopub.execute_input": "2024-07-23T19:53:25.718514Z",
     "iopub.status.busy": "2024-07-23T19:53:25.717939Z",
     "iopub.status.idle": "2024-07-23T19:53:25.723763Z",
     "shell.execute_reply": "2024-07-23T19:53:25.722552Z"
    },
    "papermill": {
     "duration": 0.032872,
     "end_time": "2024-07-23T19:53:25.726195",
     "exception": false,
     "start_time": "2024-07-23T19:53:25.693323",
     "status": "completed"
    },
    "tags": []
   },
   "outputs": [],
   "source": [
    "pipe = Pipeline([\n",
    "    ('trf1', trf1),\n",
    "    ('xgb', xgb.XGBRFRegressor())\n",
    "])"
   ]
  },
  {
   "cell_type": "code",
   "execution_count": 44,
   "id": "dca149dc",
   "metadata": {
    "execution": {
     "iopub.execute_input": "2024-07-23T19:53:25.773608Z",
     "iopub.status.busy": "2024-07-23T19:53:25.773196Z",
     "iopub.status.idle": "2024-07-23T19:53:27.304310Z",
     "shell.execute_reply": "2024-07-23T19:53:27.303227Z"
    },
    "papermill": {
     "duration": 1.558284,
     "end_time": "2024-07-23T19:53:27.306721",
     "exception": false,
     "start_time": "2024-07-23T19:53:25.748437",
     "status": "completed"
    },
    "tags": []
   },
   "outputs": [
    {
     "data": {
      "text/html": [
       "<style>#sk-container-id-1 {color: black;background-color: white;}#sk-container-id-1 pre{padding: 0;}#sk-container-id-1 div.sk-toggleable {background-color: white;}#sk-container-id-1 label.sk-toggleable__label {cursor: pointer;display: block;width: 100%;margin-bottom: 0;padding: 0.3em;box-sizing: border-box;text-align: center;}#sk-container-id-1 label.sk-toggleable__label-arrow:before {content: \"▸\";float: left;margin-right: 0.25em;color: #696969;}#sk-container-id-1 label.sk-toggleable__label-arrow:hover:before {color: black;}#sk-container-id-1 div.sk-estimator:hover label.sk-toggleable__label-arrow:before {color: black;}#sk-container-id-1 div.sk-toggleable__content {max-height: 0;max-width: 0;overflow: hidden;text-align: left;background-color: #f0f8ff;}#sk-container-id-1 div.sk-toggleable__content pre {margin: 0.2em;color: black;border-radius: 0.25em;background-color: #f0f8ff;}#sk-container-id-1 input.sk-toggleable__control:checked~div.sk-toggleable__content {max-height: 200px;max-width: 100%;overflow: auto;}#sk-container-id-1 input.sk-toggleable__control:checked~label.sk-toggleable__label-arrow:before {content: \"▾\";}#sk-container-id-1 div.sk-estimator input.sk-toggleable__control:checked~label.sk-toggleable__label {background-color: #d4ebff;}#sk-container-id-1 div.sk-label input.sk-toggleable__control:checked~label.sk-toggleable__label {background-color: #d4ebff;}#sk-container-id-1 input.sk-hidden--visually {border: 0;clip: rect(1px 1px 1px 1px);clip: rect(1px, 1px, 1px, 1px);height: 1px;margin: -1px;overflow: hidden;padding: 0;position: absolute;width: 1px;}#sk-container-id-1 div.sk-estimator {font-family: monospace;background-color: #f0f8ff;border: 1px dotted black;border-radius: 0.25em;box-sizing: border-box;margin-bottom: 0.5em;}#sk-container-id-1 div.sk-estimator:hover {background-color: #d4ebff;}#sk-container-id-1 div.sk-parallel-item::after {content: \"\";width: 100%;border-bottom: 1px solid gray;flex-grow: 1;}#sk-container-id-1 div.sk-label:hover label.sk-toggleable__label {background-color: #d4ebff;}#sk-container-id-1 div.sk-serial::before {content: \"\";position: absolute;border-left: 1px solid gray;box-sizing: border-box;top: 0;bottom: 0;left: 50%;z-index: 0;}#sk-container-id-1 div.sk-serial {display: flex;flex-direction: column;align-items: center;background-color: white;padding-right: 0.2em;padding-left: 0.2em;position: relative;}#sk-container-id-1 div.sk-item {position: relative;z-index: 1;}#sk-container-id-1 div.sk-parallel {display: flex;align-items: stretch;justify-content: center;background-color: white;position: relative;}#sk-container-id-1 div.sk-item::before, #sk-container-id-1 div.sk-parallel-item::before {content: \"\";position: absolute;border-left: 1px solid gray;box-sizing: border-box;top: 0;bottom: 0;left: 50%;z-index: -1;}#sk-container-id-1 div.sk-parallel-item {display: flex;flex-direction: column;z-index: 1;position: relative;background-color: white;}#sk-container-id-1 div.sk-parallel-item:first-child::after {align-self: flex-end;width: 50%;}#sk-container-id-1 div.sk-parallel-item:last-child::after {align-self: flex-start;width: 50%;}#sk-container-id-1 div.sk-parallel-item:only-child::after {width: 0;}#sk-container-id-1 div.sk-dashed-wrapped {border: 1px dashed gray;margin: 0 0.4em 0.5em 0.4em;box-sizing: border-box;padding-bottom: 0.4em;background-color: white;}#sk-container-id-1 div.sk-label label {font-family: monospace;font-weight: bold;display: inline-block;line-height: 1.2em;}#sk-container-id-1 div.sk-label-container {text-align: center;}#sk-container-id-1 div.sk-container {/* jupyter's `normalize.less` sets `[hidden] { display: none; }` but bootstrap.min.css set `[hidden] { display: none !important; }` so we also need the `!important` here to be able to override the default hidden behavior on the sphinx rendered scikit-learn.org. See: https://github.com/scikit-learn/scikit-learn/issues/21755 */display: inline-block !important;position: relative;}#sk-container-id-1 div.sk-text-repr-fallback {display: none;}</style><div id=\"sk-container-id-1\" class=\"sk-top-container\"><div class=\"sk-text-repr-fallback\"><pre>Pipeline(steps=[(&#x27;trf1&#x27;,\n",
       "                 ColumnTransformer(transformers=[(&#x27;num&#x27;, StandardScaler(),\n",
       "                                                  slice(0, 12, None))])),\n",
       "                (&#x27;xgb&#x27;,\n",
       "                 XGBRFRegressor(base_score=None, booster=None, callbacks=None,\n",
       "                                colsample_bylevel=None, colsample_bytree=None,\n",
       "                                device=None, early_stopping_rounds=None,\n",
       "                                enable_categorical=False, eval_metric=None,\n",
       "                                feature_types=None, gamma=None,\n",
       "                                grow_policy=None, importance_type=None,\n",
       "                                interaction_constraints=None, max_bin=None,\n",
       "                                max_cat_threshold=None, max_cat_to_onehot=None,\n",
       "                                max_delta_step=None, max_depth=None,\n",
       "                                max_leaves=None, min_child_weight=None,\n",
       "                                missing=nan, monotone_constraints=None,\n",
       "                                multi_strategy=None, n_estimators=None,\n",
       "                                n_jobs=None, num_parallel_tree=None,\n",
       "                                objective=&#x27;reg:squarederror&#x27;, random_state=None,\n",
       "                                reg_alpha=None, ...))])</pre><b>In a Jupyter environment, please rerun this cell to show the HTML representation or trust the notebook. <br />On GitHub, the HTML representation is unable to render, please try loading this page with nbviewer.org.</b></div><div class=\"sk-container\" hidden><div class=\"sk-item sk-dashed-wrapped\"><div class=\"sk-label-container\"><div class=\"sk-label sk-toggleable\"><input class=\"sk-toggleable__control sk-hidden--visually\" id=\"sk-estimator-id-1\" type=\"checkbox\" ><label for=\"sk-estimator-id-1\" class=\"sk-toggleable__label sk-toggleable__label-arrow\">Pipeline</label><div class=\"sk-toggleable__content\"><pre>Pipeline(steps=[(&#x27;trf1&#x27;,\n",
       "                 ColumnTransformer(transformers=[(&#x27;num&#x27;, StandardScaler(),\n",
       "                                                  slice(0, 12, None))])),\n",
       "                (&#x27;xgb&#x27;,\n",
       "                 XGBRFRegressor(base_score=None, booster=None, callbacks=None,\n",
       "                                colsample_bylevel=None, colsample_bytree=None,\n",
       "                                device=None, early_stopping_rounds=None,\n",
       "                                enable_categorical=False, eval_metric=None,\n",
       "                                feature_types=None, gamma=None,\n",
       "                                grow_policy=None, importance_type=None,\n",
       "                                interaction_constraints=None, max_bin=None,\n",
       "                                max_cat_threshold=None, max_cat_to_onehot=None,\n",
       "                                max_delta_step=None, max_depth=None,\n",
       "                                max_leaves=None, min_child_weight=None,\n",
       "                                missing=nan, monotone_constraints=None,\n",
       "                                multi_strategy=None, n_estimators=None,\n",
       "                                n_jobs=None, num_parallel_tree=None,\n",
       "                                objective=&#x27;reg:squarederror&#x27;, random_state=None,\n",
       "                                reg_alpha=None, ...))])</pre></div></div></div><div class=\"sk-serial\"><div class=\"sk-item sk-dashed-wrapped\"><div class=\"sk-label-container\"><div class=\"sk-label sk-toggleable\"><input class=\"sk-toggleable__control sk-hidden--visually\" id=\"sk-estimator-id-2\" type=\"checkbox\" ><label for=\"sk-estimator-id-2\" class=\"sk-toggleable__label sk-toggleable__label-arrow\">trf1: ColumnTransformer</label><div class=\"sk-toggleable__content\"><pre>ColumnTransformer(transformers=[(&#x27;num&#x27;, StandardScaler(), slice(0, 12, None))])</pre></div></div></div><div class=\"sk-parallel\"><div class=\"sk-parallel-item\"><div class=\"sk-item\"><div class=\"sk-label-container\"><div class=\"sk-label sk-toggleable\"><input class=\"sk-toggleable__control sk-hidden--visually\" id=\"sk-estimator-id-3\" type=\"checkbox\" ><label for=\"sk-estimator-id-3\" class=\"sk-toggleable__label sk-toggleable__label-arrow\">num</label><div class=\"sk-toggleable__content\"><pre>slice(0, 12, None)</pre></div></div></div><div class=\"sk-serial\"><div class=\"sk-item\"><div class=\"sk-estimator sk-toggleable\"><input class=\"sk-toggleable__control sk-hidden--visually\" id=\"sk-estimator-id-4\" type=\"checkbox\" ><label for=\"sk-estimator-id-4\" class=\"sk-toggleable__label sk-toggleable__label-arrow\">StandardScaler</label><div class=\"sk-toggleable__content\"><pre>StandardScaler()</pre></div></div></div></div></div></div></div></div><div class=\"sk-item\"><div class=\"sk-estimator sk-toggleable\"><input class=\"sk-toggleable__control sk-hidden--visually\" id=\"sk-estimator-id-5\" type=\"checkbox\" ><label for=\"sk-estimator-id-5\" class=\"sk-toggleable__label sk-toggleable__label-arrow\">XGBRFRegressor</label><div class=\"sk-toggleable__content\"><pre>XGBRFRegressor(base_score=None, booster=None, callbacks=None,\n",
       "               colsample_bylevel=None, colsample_bytree=None, device=None,\n",
       "               early_stopping_rounds=None, enable_categorical=False,\n",
       "               eval_metric=None, feature_types=None, gamma=None,\n",
       "               grow_policy=None, importance_type=None,\n",
       "               interaction_constraints=None, max_bin=None,\n",
       "               max_cat_threshold=None, max_cat_to_onehot=None,\n",
       "               max_delta_step=None, max_depth=None, max_leaves=None,\n",
       "               min_child_weight=None, missing=nan, monotone_constraints=None,\n",
       "               multi_strategy=None, n_estimators=None, n_jobs=None,\n",
       "               num_parallel_tree=None, objective=&#x27;reg:squarederror&#x27;,\n",
       "               random_state=None, reg_alpha=None, ...)</pre></div></div></div></div></div></div></div>"
      ],
      "text/plain": [
       "Pipeline(steps=[('trf1',\n",
       "                 ColumnTransformer(transformers=[('num', StandardScaler(),\n",
       "                                                  slice(0, 12, None))])),\n",
       "                ('xgb',\n",
       "                 XGBRFRegressor(base_score=None, booster=None, callbacks=None,\n",
       "                                colsample_bylevel=None, colsample_bytree=None,\n",
       "                                device=None, early_stopping_rounds=None,\n",
       "                                enable_categorical=False, eval_metric=None,\n",
       "                                feature_types=None, gamma=None,\n",
       "                                grow_policy=None, importance_type=None,\n",
       "                                interaction_constraints=None, max_bin=None,\n",
       "                                max_cat_threshold=None, max_cat_to_onehot=None,\n",
       "                                max_delta_step=None, max_depth=None,\n",
       "                                max_leaves=None, min_child_weight=None,\n",
       "                                missing=nan, monotone_constraints=None,\n",
       "                                multi_strategy=None, n_estimators=None,\n",
       "                                n_jobs=None, num_parallel_tree=None,\n",
       "                                objective='reg:squarederror', random_state=None,\n",
       "                                reg_alpha=None, ...))])"
      ]
     },
     "execution_count": 44,
     "metadata": {},
     "output_type": "execute_result"
    }
   ],
   "source": [
    "pipe.fit(X_train, y_train)"
   ]
  },
  {
   "cell_type": "code",
   "execution_count": 45,
   "id": "8e0dc033",
   "metadata": {
    "execution": {
     "iopub.execute_input": "2024-07-23T19:53:27.353892Z",
     "iopub.status.busy": "2024-07-23T19:53:27.353435Z",
     "iopub.status.idle": "2024-07-23T19:53:27.412521Z",
     "shell.execute_reply": "2024-07-23T19:53:27.411492Z"
    },
    "papermill": {
     "duration": 0.085698,
     "end_time": "2024-07-23T19:53:27.414943",
     "exception": false,
     "start_time": "2024-07-23T19:53:27.329245",
     "status": "completed"
    },
    "tags": []
   },
   "outputs": [
    {
     "data": {
      "text/plain": [
       "array([ 9.533322 , 31.09931  ,  8.273671 , ..., 10.394653 ,  6.4953876,\n",
       "       11.723821 ], dtype=float32)"
      ]
     },
     "execution_count": 45,
     "metadata": {},
     "output_type": "execute_result"
    }
   ],
   "source": [
    "y_pred = pipe.predict(X_test)\n",
    "y_pred"
   ]
  },
  {
   "cell_type": "code",
   "execution_count": 46,
   "id": "0113d2c3",
   "metadata": {
    "execution": {
     "iopub.execute_input": "2024-07-23T19:53:27.463382Z",
     "iopub.status.busy": "2024-07-23T19:53:27.462982Z",
     "iopub.status.idle": "2024-07-23T19:53:27.471952Z",
     "shell.execute_reply": "2024-07-23T19:53:27.470918Z"
    },
    "papermill": {
     "duration": 0.036316,
     "end_time": "2024-07-23T19:53:27.474057",
     "exception": false,
     "start_time": "2024-07-23T19:53:27.437741",
     "status": "completed"
    },
    "tags": []
   },
   "outputs": [
    {
     "data": {
      "text/plain": [
       "{'trf1': ColumnTransformer(transformers=[('num', StandardScaler(), slice(0, 12, None))]),\n",
       " 'xgb': XGBRFRegressor(base_score=None, booster=None, callbacks=None,\n",
       "                colsample_bylevel=None, colsample_bytree=None, device=None,\n",
       "                early_stopping_rounds=None, enable_categorical=False,\n",
       "                eval_metric=None, feature_types=None, gamma=None,\n",
       "                grow_policy=None, importance_type=None,\n",
       "                interaction_constraints=None, max_bin=None,\n",
       "                max_cat_threshold=None, max_cat_to_onehot=None,\n",
       "                max_delta_step=None, max_depth=None, max_leaves=None,\n",
       "                min_child_weight=None, missing=nan, monotone_constraints=None,\n",
       "                multi_strategy=None, n_estimators=None, n_jobs=None,\n",
       "                num_parallel_tree=None, objective='reg:squarederror',\n",
       "                random_state=None, reg_alpha=None, ...)}"
      ]
     },
     "execution_count": 46,
     "metadata": {},
     "output_type": "execute_result"
    }
   ],
   "source": [
    "pipe.named_steps"
   ]
  },
  {
   "cell_type": "code",
   "execution_count": 47,
   "id": "feeef086",
   "metadata": {
    "execution": {
     "iopub.execute_input": "2024-07-23T19:53:27.521071Z",
     "iopub.status.busy": "2024-07-23T19:53:27.520712Z",
     "iopub.status.idle": "2024-07-23T19:53:27.529037Z",
     "shell.execute_reply": "2024-07-23T19:53:27.527907Z"
    },
    "papermill": {
     "duration": 0.034244,
     "end_time": "2024-07-23T19:53:27.531143",
     "exception": false,
     "start_time": "2024-07-23T19:53:27.496899",
     "status": "completed"
    },
    "tags": []
   },
   "outputs": [
    {
     "data": {
      "text/plain": [
       "23.440328393796094"
      ]
     },
     "execution_count": 47,
     "metadata": {},
     "output_type": "execute_result"
    }
   ],
   "source": [
    "mean_squared_error(y_test, y_pred)"
   ]
  },
  {
   "cell_type": "code",
   "execution_count": 48,
   "id": "0b2018ed",
   "metadata": {
    "execution": {
     "iopub.execute_input": "2024-07-23T19:53:27.578675Z",
     "iopub.status.busy": "2024-07-23T19:53:27.578273Z",
     "iopub.status.idle": "2024-07-23T19:53:27.586783Z",
     "shell.execute_reply": "2024-07-23T19:53:27.585606Z"
    },
    "papermill": {
     "duration": 0.035139,
     "end_time": "2024-07-23T19:53:27.588983",
     "exception": false,
     "start_time": "2024-07-23T19:53:27.553844",
     "status": "completed"
    },
    "tags": []
   },
   "outputs": [
    {
     "data": {
      "text/plain": [
       "4.84152128920199"
      ]
     },
     "execution_count": 48,
     "metadata": {},
     "output_type": "execute_result"
    }
   ],
   "source": [
    "np.sqrt(mean_squared_error(y_test, y_pred))"
   ]
  },
  {
   "cell_type": "code",
   "execution_count": 49,
   "id": "6719ef07",
   "metadata": {
    "execution": {
     "iopub.execute_input": "2024-07-23T19:53:27.636567Z",
     "iopub.status.busy": "2024-07-23T19:53:27.636213Z",
     "iopub.status.idle": "2024-07-23T19:53:35.265777Z",
     "shell.execute_reply": "2024-07-23T19:53:35.264731Z"
    },
    "papermill": {
     "duration": 7.655952,
     "end_time": "2024-07-23T19:53:35.268120",
     "exception": false,
     "start_time": "2024-07-23T19:53:27.612168",
     "status": "completed"
    },
    "tags": []
   },
   "outputs": [
    {
     "data": {
      "text/plain": [
       "array([-28.22959415, -21.93473505, -20.68136495, -23.60845916,\n",
       "       -29.49725228])"
      ]
     },
     "execution_count": 49,
     "metadata": {},
     "output_type": "execute_result"
    }
   ],
   "source": [
    "# Cross validation using pipeline\n",
    "cross_val_score(pipe, x, y, cv=5, scoring=\"neg_mean_squared_error\")"
   ]
  },
  {
   "cell_type": "code",
   "execution_count": 50,
   "id": "823aef08",
   "metadata": {
    "execution": {
     "iopub.execute_input": "2024-07-23T19:53:35.316509Z",
     "iopub.status.busy": "2024-07-23T19:53:35.316089Z",
     "iopub.status.idle": "2024-07-23T19:53:35.323907Z",
     "shell.execute_reply": "2024-07-23T19:53:35.322478Z"
    },
    "papermill": {
     "duration": 0.034986,
     "end_time": "2024-07-23T19:53:35.326424",
     "exception": false,
     "start_time": "2024-07-23T19:53:35.291438",
     "status": "completed"
    },
    "tags": []
   },
   "outputs": [
    {
     "data": {
      "text/plain": [
       "-24.790281118"
      ]
     },
     "execution_count": 50,
     "metadata": {},
     "output_type": "execute_result"
    }
   ],
   "source": [
    "np.array([-28.22959415, -21.93473505, -20.68136495, -23.60845916,\n",
    "       -29.49725228]).mean()"
   ]
  },
  {
   "cell_type": "code",
   "execution_count": 51,
   "id": "3d6dd019",
   "metadata": {
    "execution": {
     "iopub.execute_input": "2024-07-23T19:53:35.375013Z",
     "iopub.status.busy": "2024-07-23T19:53:35.374647Z",
     "iopub.status.idle": "2024-07-23T19:54:45.849750Z",
     "shell.execute_reply": "2024-07-23T19:54:45.848466Z"
    },
    "papermill": {
     "duration": 70.525656,
     "end_time": "2024-07-23T19:54:45.875524",
     "exception": false,
     "start_time": "2024-07-23T19:53:35.349868",
     "status": "completed"
    },
    "tags": []
   },
   "outputs": [
    {
     "name": "stdout",
     "output_type": "stream",
     "text": [
      "Fitting 5 folds for each of 9 candidates, totalling 45 fits\n"
     ]
    },
    {
     "data": {
      "text/html": [
       "<style>#sk-container-id-2 {color: black;background-color: white;}#sk-container-id-2 pre{padding: 0;}#sk-container-id-2 div.sk-toggleable {background-color: white;}#sk-container-id-2 label.sk-toggleable__label {cursor: pointer;display: block;width: 100%;margin-bottom: 0;padding: 0.3em;box-sizing: border-box;text-align: center;}#sk-container-id-2 label.sk-toggleable__label-arrow:before {content: \"▸\";float: left;margin-right: 0.25em;color: #696969;}#sk-container-id-2 label.sk-toggleable__label-arrow:hover:before {color: black;}#sk-container-id-2 div.sk-estimator:hover label.sk-toggleable__label-arrow:before {color: black;}#sk-container-id-2 div.sk-toggleable__content {max-height: 0;max-width: 0;overflow: hidden;text-align: left;background-color: #f0f8ff;}#sk-container-id-2 div.sk-toggleable__content pre {margin: 0.2em;color: black;border-radius: 0.25em;background-color: #f0f8ff;}#sk-container-id-2 input.sk-toggleable__control:checked~div.sk-toggleable__content {max-height: 200px;max-width: 100%;overflow: auto;}#sk-container-id-2 input.sk-toggleable__control:checked~label.sk-toggleable__label-arrow:before {content: \"▾\";}#sk-container-id-2 div.sk-estimator input.sk-toggleable__control:checked~label.sk-toggleable__label {background-color: #d4ebff;}#sk-container-id-2 div.sk-label input.sk-toggleable__control:checked~label.sk-toggleable__label {background-color: #d4ebff;}#sk-container-id-2 input.sk-hidden--visually {border: 0;clip: rect(1px 1px 1px 1px);clip: rect(1px, 1px, 1px, 1px);height: 1px;margin: -1px;overflow: hidden;padding: 0;position: absolute;width: 1px;}#sk-container-id-2 div.sk-estimator {font-family: monospace;background-color: #f0f8ff;border: 1px dotted black;border-radius: 0.25em;box-sizing: border-box;margin-bottom: 0.5em;}#sk-container-id-2 div.sk-estimator:hover {background-color: #d4ebff;}#sk-container-id-2 div.sk-parallel-item::after {content: \"\";width: 100%;border-bottom: 1px solid gray;flex-grow: 1;}#sk-container-id-2 div.sk-label:hover label.sk-toggleable__label {background-color: #d4ebff;}#sk-container-id-2 div.sk-serial::before {content: \"\";position: absolute;border-left: 1px solid gray;box-sizing: border-box;top: 0;bottom: 0;left: 50%;z-index: 0;}#sk-container-id-2 div.sk-serial {display: flex;flex-direction: column;align-items: center;background-color: white;padding-right: 0.2em;padding-left: 0.2em;position: relative;}#sk-container-id-2 div.sk-item {position: relative;z-index: 1;}#sk-container-id-2 div.sk-parallel {display: flex;align-items: stretch;justify-content: center;background-color: white;position: relative;}#sk-container-id-2 div.sk-item::before, #sk-container-id-2 div.sk-parallel-item::before {content: \"\";position: absolute;border-left: 1px solid gray;box-sizing: border-box;top: 0;bottom: 0;left: 50%;z-index: -1;}#sk-container-id-2 div.sk-parallel-item {display: flex;flex-direction: column;z-index: 1;position: relative;background-color: white;}#sk-container-id-2 div.sk-parallel-item:first-child::after {align-self: flex-end;width: 50%;}#sk-container-id-2 div.sk-parallel-item:last-child::after {align-self: flex-start;width: 50%;}#sk-container-id-2 div.sk-parallel-item:only-child::after {width: 0;}#sk-container-id-2 div.sk-dashed-wrapped {border: 1px dashed gray;margin: 0 0.4em 0.5em 0.4em;box-sizing: border-box;padding-bottom: 0.4em;background-color: white;}#sk-container-id-2 div.sk-label label {font-family: monospace;font-weight: bold;display: inline-block;line-height: 1.2em;}#sk-container-id-2 div.sk-label-container {text-align: center;}#sk-container-id-2 div.sk-container {/* jupyter's `normalize.less` sets `[hidden] { display: none; }` but bootstrap.min.css set `[hidden] { display: none !important; }` so we also need the `!important` here to be able to override the default hidden behavior on the sphinx rendered scikit-learn.org. See: https://github.com/scikit-learn/scikit-learn/issues/21755 */display: inline-block !important;position: relative;}#sk-container-id-2 div.sk-text-repr-fallback {display: none;}</style><div id=\"sk-container-id-2\" class=\"sk-top-container\"><div class=\"sk-text-repr-fallback\"><pre>GridSearchCV(cv=5,\n",
       "             estimator=Pipeline(steps=[(&#x27;trf1&#x27;,\n",
       "                                        ColumnTransformer(transformers=[(&#x27;num&#x27;,\n",
       "                                                                         StandardScaler(),\n",
       "                                                                         slice(0, 12, None))])),\n",
       "                                       (&#x27;xgb&#x27;,\n",
       "                                        XGBRFRegressor(base_score=None,\n",
       "                                                       booster=None,\n",
       "                                                       callbacks=None,\n",
       "                                                       colsample_bylevel=None,\n",
       "                                                       colsample_bytree=None,\n",
       "                                                       device=None,\n",
       "                                                       early_stopping_rounds=None,\n",
       "                                                       enable_categorical=False,\n",
       "                                                       eval_metric=None,\n",
       "                                                       feature_types=None,\n",
       "                                                       gamma=None...\n",
       "                                                       max_depth=None,\n",
       "                                                       max_leaves=None,\n",
       "                                                       min_child_weight=None,\n",
       "                                                       missing=nan,\n",
       "                                                       monotone_constraints=None,\n",
       "                                                       multi_strategy=None,\n",
       "                                                       n_estimators=None,\n",
       "                                                       n_jobs=None,\n",
       "                                                       num_parallel_tree=None,\n",
       "                                                       objective=&#x27;reg:squarederror&#x27;,\n",
       "                                                       random_state=None,\n",
       "                                                       reg_alpha=None, ...))]),\n",
       "             n_jobs=-1,\n",
       "             param_grid={&#x27;xgb__max_depth&#x27;: [2, 3, 4],\n",
       "                         &#x27;xgb__n_estimators&#x27;: [100, 200, 300]},\n",
       "             scoring=&#x27;neg_mean_squared_error&#x27;, verbose=1)</pre><b>In a Jupyter environment, please rerun this cell to show the HTML representation or trust the notebook. <br />On GitHub, the HTML representation is unable to render, please try loading this page with nbviewer.org.</b></div><div class=\"sk-container\" hidden><div class=\"sk-item sk-dashed-wrapped\"><div class=\"sk-label-container\"><div class=\"sk-label sk-toggleable\"><input class=\"sk-toggleable__control sk-hidden--visually\" id=\"sk-estimator-id-6\" type=\"checkbox\" ><label for=\"sk-estimator-id-6\" class=\"sk-toggleable__label sk-toggleable__label-arrow\">GridSearchCV</label><div class=\"sk-toggleable__content\"><pre>GridSearchCV(cv=5,\n",
       "             estimator=Pipeline(steps=[(&#x27;trf1&#x27;,\n",
       "                                        ColumnTransformer(transformers=[(&#x27;num&#x27;,\n",
       "                                                                         StandardScaler(),\n",
       "                                                                         slice(0, 12, None))])),\n",
       "                                       (&#x27;xgb&#x27;,\n",
       "                                        XGBRFRegressor(base_score=None,\n",
       "                                                       booster=None,\n",
       "                                                       callbacks=None,\n",
       "                                                       colsample_bylevel=None,\n",
       "                                                       colsample_bytree=None,\n",
       "                                                       device=None,\n",
       "                                                       early_stopping_rounds=None,\n",
       "                                                       enable_categorical=False,\n",
       "                                                       eval_metric=None,\n",
       "                                                       feature_types=None,\n",
       "                                                       gamma=None...\n",
       "                                                       max_depth=None,\n",
       "                                                       max_leaves=None,\n",
       "                                                       min_child_weight=None,\n",
       "                                                       missing=nan,\n",
       "                                                       monotone_constraints=None,\n",
       "                                                       multi_strategy=None,\n",
       "                                                       n_estimators=None,\n",
       "                                                       n_jobs=None,\n",
       "                                                       num_parallel_tree=None,\n",
       "                                                       objective=&#x27;reg:squarederror&#x27;,\n",
       "                                                       random_state=None,\n",
       "                                                       reg_alpha=None, ...))]),\n",
       "             n_jobs=-1,\n",
       "             param_grid={&#x27;xgb__max_depth&#x27;: [2, 3, 4],\n",
       "                         &#x27;xgb__n_estimators&#x27;: [100, 200, 300]},\n",
       "             scoring=&#x27;neg_mean_squared_error&#x27;, verbose=1)</pre></div></div></div><div class=\"sk-parallel\"><div class=\"sk-parallel-item\"><div class=\"sk-item\"><div class=\"sk-label-container\"><div class=\"sk-label sk-toggleable\"><input class=\"sk-toggleable__control sk-hidden--visually\" id=\"sk-estimator-id-7\" type=\"checkbox\" ><label for=\"sk-estimator-id-7\" class=\"sk-toggleable__label sk-toggleable__label-arrow\">estimator: Pipeline</label><div class=\"sk-toggleable__content\"><pre>Pipeline(steps=[(&#x27;trf1&#x27;,\n",
       "                 ColumnTransformer(transformers=[(&#x27;num&#x27;, StandardScaler(),\n",
       "                                                  slice(0, 12, None))])),\n",
       "                (&#x27;xgb&#x27;,\n",
       "                 XGBRFRegressor(base_score=None, booster=None, callbacks=None,\n",
       "                                colsample_bylevel=None, colsample_bytree=None,\n",
       "                                device=None, early_stopping_rounds=None,\n",
       "                                enable_categorical=False, eval_metric=None,\n",
       "                                feature_types=None, gamma=None,\n",
       "                                grow_policy=None, importance_type=None,\n",
       "                                interaction_constraints=None, max_bin=None,\n",
       "                                max_cat_threshold=None, max_cat_to_onehot=None,\n",
       "                                max_delta_step=None, max_depth=None,\n",
       "                                max_leaves=None, min_child_weight=None,\n",
       "                                missing=nan, monotone_constraints=None,\n",
       "                                multi_strategy=None, n_estimators=None,\n",
       "                                n_jobs=None, num_parallel_tree=None,\n",
       "                                objective=&#x27;reg:squarederror&#x27;, random_state=None,\n",
       "                                reg_alpha=None, ...))])</pre></div></div></div><div class=\"sk-serial\"><div class=\"sk-item\"><div class=\"sk-serial\"><div class=\"sk-item sk-dashed-wrapped\"><div class=\"sk-label-container\"><div class=\"sk-label sk-toggleable\"><input class=\"sk-toggleable__control sk-hidden--visually\" id=\"sk-estimator-id-8\" type=\"checkbox\" ><label for=\"sk-estimator-id-8\" class=\"sk-toggleable__label sk-toggleable__label-arrow\">trf1: ColumnTransformer</label><div class=\"sk-toggleable__content\"><pre>ColumnTransformer(transformers=[(&#x27;num&#x27;, StandardScaler(), slice(0, 12, None))])</pre></div></div></div><div class=\"sk-parallel\"><div class=\"sk-parallel-item\"><div class=\"sk-item\"><div class=\"sk-label-container\"><div class=\"sk-label sk-toggleable\"><input class=\"sk-toggleable__control sk-hidden--visually\" id=\"sk-estimator-id-9\" type=\"checkbox\" ><label for=\"sk-estimator-id-9\" class=\"sk-toggleable__label sk-toggleable__label-arrow\">num</label><div class=\"sk-toggleable__content\"><pre>slice(0, 12, None)</pre></div></div></div><div class=\"sk-serial\"><div class=\"sk-item\"><div class=\"sk-estimator sk-toggleable\"><input class=\"sk-toggleable__control sk-hidden--visually\" id=\"sk-estimator-id-10\" type=\"checkbox\" ><label for=\"sk-estimator-id-10\" class=\"sk-toggleable__label sk-toggleable__label-arrow\">StandardScaler</label><div class=\"sk-toggleable__content\"><pre>StandardScaler()</pre></div></div></div></div></div></div></div></div><div class=\"sk-item\"><div class=\"sk-estimator sk-toggleable\"><input class=\"sk-toggleable__control sk-hidden--visually\" id=\"sk-estimator-id-11\" type=\"checkbox\" ><label for=\"sk-estimator-id-11\" class=\"sk-toggleable__label sk-toggleable__label-arrow\">XGBRFRegressor</label><div class=\"sk-toggleable__content\"><pre>XGBRFRegressor(base_score=None, booster=None, callbacks=None,\n",
       "               colsample_bylevel=None, colsample_bytree=None, device=None,\n",
       "               early_stopping_rounds=None, enable_categorical=False,\n",
       "               eval_metric=None, feature_types=None, gamma=None,\n",
       "               grow_policy=None, importance_type=None,\n",
       "               interaction_constraints=None, max_bin=None,\n",
       "               max_cat_threshold=None, max_cat_to_onehot=None,\n",
       "               max_delta_step=None, max_depth=None, max_leaves=None,\n",
       "               min_child_weight=None, missing=nan, monotone_constraints=None,\n",
       "               multi_strategy=None, n_estimators=None, n_jobs=None,\n",
       "               num_parallel_tree=None, objective=&#x27;reg:squarederror&#x27;,\n",
       "               random_state=None, reg_alpha=None, ...)</pre></div></div></div></div></div></div></div></div></div></div></div></div>"
      ],
      "text/plain": [
       "GridSearchCV(cv=5,\n",
       "             estimator=Pipeline(steps=[('trf1',\n",
       "                                        ColumnTransformer(transformers=[('num',\n",
       "                                                                         StandardScaler(),\n",
       "                                                                         slice(0, 12, None))])),\n",
       "                                       ('xgb',\n",
       "                                        XGBRFRegressor(base_score=None,\n",
       "                                                       booster=None,\n",
       "                                                       callbacks=None,\n",
       "                                                       colsample_bylevel=None,\n",
       "                                                       colsample_bytree=None,\n",
       "                                                       device=None,\n",
       "                                                       early_stopping_rounds=None,\n",
       "                                                       enable_categorical=False,\n",
       "                                                       eval_metric=None,\n",
       "                                                       feature_types=None,\n",
       "                                                       gamma=None...\n",
       "                                                       max_depth=None,\n",
       "                                                       max_leaves=None,\n",
       "                                                       min_child_weight=None,\n",
       "                                                       missing=nan,\n",
       "                                                       monotone_constraints=None,\n",
       "                                                       multi_strategy=None,\n",
       "                                                       n_estimators=None,\n",
       "                                                       n_jobs=None,\n",
       "                                                       num_parallel_tree=None,\n",
       "                                                       objective='reg:squarederror',\n",
       "                                                       random_state=None,\n",
       "                                                       reg_alpha=None, ...))]),\n",
       "             n_jobs=-1,\n",
       "             param_grid={'xgb__max_depth': [2, 3, 4],\n",
       "                         'xgb__n_estimators': [100, 200, 300]},\n",
       "             scoring='neg_mean_squared_error', verbose=1)"
      ]
     },
     "execution_count": 51,
     "metadata": {},
     "output_type": "execute_result"
    }
   ],
   "source": [
    "# Grid Search using GRidSearchCV\n",
    "from sklearn.model_selection import GridSearchCV\n",
    "\n",
    "params = {\n",
    "    'xgb__n_estimators' : [100,200,300],\n",
    "    \"xgb__max_depth\" : [2,3,4]\n",
    "}\n",
    "\n",
    "grid = GridSearchCV(pipe, param_grid=params, cv=5, scoring='neg_mean_squared_error', n_jobs=-1, verbose=1)\n",
    "grid.fit(x,y)"
   ]
  },
  {
   "cell_type": "code",
   "execution_count": 52,
   "id": "01a0bb5e",
   "metadata": {
    "execution": {
     "iopub.execute_input": "2024-07-23T19:54:45.925167Z",
     "iopub.status.busy": "2024-07-23T19:54:45.924729Z",
     "iopub.status.idle": "2024-07-23T19:54:45.931888Z",
     "shell.execute_reply": "2024-07-23T19:54:45.930850Z"
    },
    "papermill": {
     "duration": 0.034514,
     "end_time": "2024-07-23T19:54:45.934042",
     "exception": false,
     "start_time": "2024-07-23T19:54:45.899528",
     "status": "completed"
    },
    "tags": []
   },
   "outputs": [
    {
     "data": {
      "text/plain": [
       "{'xgb__max_depth': 4, 'xgb__n_estimators': 300}"
      ]
     },
     "execution_count": 52,
     "metadata": {},
     "output_type": "execute_result"
    }
   ],
   "source": [
    "grid.best_params_"
   ]
  },
  {
   "cell_type": "code",
   "execution_count": 53,
   "id": "6fa87888",
   "metadata": {
    "execution": {
     "iopub.execute_input": "2024-07-23T19:54:45.984323Z",
     "iopub.status.busy": "2024-07-23T19:54:45.983926Z",
     "iopub.status.idle": "2024-07-23T19:54:47.442524Z",
     "shell.execute_reply": "2024-07-23T19:54:47.441403Z"
    },
    "papermill": {
     "duration": 1.486944,
     "end_time": "2024-07-23T19:54:47.444923",
     "exception": false,
     "start_time": "2024-07-23T19:54:45.957979",
     "status": "completed"
    },
    "tags": []
   },
   "outputs": [
    {
     "data": {
      "text/html": [
       "<style>#sk-container-id-3 {color: black;background-color: white;}#sk-container-id-3 pre{padding: 0;}#sk-container-id-3 div.sk-toggleable {background-color: white;}#sk-container-id-3 label.sk-toggleable__label {cursor: pointer;display: block;width: 100%;margin-bottom: 0;padding: 0.3em;box-sizing: border-box;text-align: center;}#sk-container-id-3 label.sk-toggleable__label-arrow:before {content: \"▸\";float: left;margin-right: 0.25em;color: #696969;}#sk-container-id-3 label.sk-toggleable__label-arrow:hover:before {color: black;}#sk-container-id-3 div.sk-estimator:hover label.sk-toggleable__label-arrow:before {color: black;}#sk-container-id-3 div.sk-toggleable__content {max-height: 0;max-width: 0;overflow: hidden;text-align: left;background-color: #f0f8ff;}#sk-container-id-3 div.sk-toggleable__content pre {margin: 0.2em;color: black;border-radius: 0.25em;background-color: #f0f8ff;}#sk-container-id-3 input.sk-toggleable__control:checked~div.sk-toggleable__content {max-height: 200px;max-width: 100%;overflow: auto;}#sk-container-id-3 input.sk-toggleable__control:checked~label.sk-toggleable__label-arrow:before {content: \"▾\";}#sk-container-id-3 div.sk-estimator input.sk-toggleable__control:checked~label.sk-toggleable__label {background-color: #d4ebff;}#sk-container-id-3 div.sk-label input.sk-toggleable__control:checked~label.sk-toggleable__label {background-color: #d4ebff;}#sk-container-id-3 input.sk-hidden--visually {border: 0;clip: rect(1px 1px 1px 1px);clip: rect(1px, 1px, 1px, 1px);height: 1px;margin: -1px;overflow: hidden;padding: 0;position: absolute;width: 1px;}#sk-container-id-3 div.sk-estimator {font-family: monospace;background-color: #f0f8ff;border: 1px dotted black;border-radius: 0.25em;box-sizing: border-box;margin-bottom: 0.5em;}#sk-container-id-3 div.sk-estimator:hover {background-color: #d4ebff;}#sk-container-id-3 div.sk-parallel-item::after {content: \"\";width: 100%;border-bottom: 1px solid gray;flex-grow: 1;}#sk-container-id-3 div.sk-label:hover label.sk-toggleable__label {background-color: #d4ebff;}#sk-container-id-3 div.sk-serial::before {content: \"\";position: absolute;border-left: 1px solid gray;box-sizing: border-box;top: 0;bottom: 0;left: 50%;z-index: 0;}#sk-container-id-3 div.sk-serial {display: flex;flex-direction: column;align-items: center;background-color: white;padding-right: 0.2em;padding-left: 0.2em;position: relative;}#sk-container-id-3 div.sk-item {position: relative;z-index: 1;}#sk-container-id-3 div.sk-parallel {display: flex;align-items: stretch;justify-content: center;background-color: white;position: relative;}#sk-container-id-3 div.sk-item::before, #sk-container-id-3 div.sk-parallel-item::before {content: \"\";position: absolute;border-left: 1px solid gray;box-sizing: border-box;top: 0;bottom: 0;left: 50%;z-index: -1;}#sk-container-id-3 div.sk-parallel-item {display: flex;flex-direction: column;z-index: 1;position: relative;background-color: white;}#sk-container-id-3 div.sk-parallel-item:first-child::after {align-self: flex-end;width: 50%;}#sk-container-id-3 div.sk-parallel-item:last-child::after {align-self: flex-start;width: 50%;}#sk-container-id-3 div.sk-parallel-item:only-child::after {width: 0;}#sk-container-id-3 div.sk-dashed-wrapped {border: 1px dashed gray;margin: 0 0.4em 0.5em 0.4em;box-sizing: border-box;padding-bottom: 0.4em;background-color: white;}#sk-container-id-3 div.sk-label label {font-family: monospace;font-weight: bold;display: inline-block;line-height: 1.2em;}#sk-container-id-3 div.sk-label-container {text-align: center;}#sk-container-id-3 div.sk-container {/* jupyter's `normalize.less` sets `[hidden] { display: none; }` but bootstrap.min.css set `[hidden] { display: none !important; }` so we also need the `!important` here to be able to override the default hidden behavior on the sphinx rendered scikit-learn.org. See: https://github.com/scikit-learn/scikit-learn/issues/21755 */display: inline-block !important;position: relative;}#sk-container-id-3 div.sk-text-repr-fallback {display: none;}</style><div id=\"sk-container-id-3\" class=\"sk-top-container\"><div class=\"sk-text-repr-fallback\"><pre>Pipeline(steps=[(&#x27;trf1&#x27;,\n",
       "                 ColumnTransformer(transformers=[(&#x27;num&#x27;, StandardScaler(),\n",
       "                                                  slice(0, 12, None))])),\n",
       "                (&#x27;xgb&#x27;,\n",
       "                 XGBRFRegressor(base_score=None, booster=None, callbacks=None,\n",
       "                                colsample_bylevel=None, colsample_bytree=None,\n",
       "                                device=None, early_stopping_rounds=None,\n",
       "                                enable_categorical=False, eval_metric=None,\n",
       "                                feature_types=None, gamma=None,\n",
       "                                grow_policy=None, importance_type=None,\n",
       "                                interaction_constraints=None, max_bin=None,\n",
       "                                max_cat_threshold=None, max_cat_to_onehot=None,\n",
       "                                max_delta_step=None, max_depth=None,\n",
       "                                max_leaves=None, min_child_weight=None,\n",
       "                                missing=nan, monotone_constraints=None,\n",
       "                                multi_strategy=None, n_estimators=None,\n",
       "                                n_jobs=None, num_parallel_tree=None,\n",
       "                                objective=&#x27;reg:squarederror&#x27;, random_state=None,\n",
       "                                reg_alpha=None, ...))])</pre><b>In a Jupyter environment, please rerun this cell to show the HTML representation or trust the notebook. <br />On GitHub, the HTML representation is unable to render, please try loading this page with nbviewer.org.</b></div><div class=\"sk-container\" hidden><div class=\"sk-item sk-dashed-wrapped\"><div class=\"sk-label-container\"><div class=\"sk-label sk-toggleable\"><input class=\"sk-toggleable__control sk-hidden--visually\" id=\"sk-estimator-id-12\" type=\"checkbox\" ><label for=\"sk-estimator-id-12\" class=\"sk-toggleable__label sk-toggleable__label-arrow\">Pipeline</label><div class=\"sk-toggleable__content\"><pre>Pipeline(steps=[(&#x27;trf1&#x27;,\n",
       "                 ColumnTransformer(transformers=[(&#x27;num&#x27;, StandardScaler(),\n",
       "                                                  slice(0, 12, None))])),\n",
       "                (&#x27;xgb&#x27;,\n",
       "                 XGBRFRegressor(base_score=None, booster=None, callbacks=None,\n",
       "                                colsample_bylevel=None, colsample_bytree=None,\n",
       "                                device=None, early_stopping_rounds=None,\n",
       "                                enable_categorical=False, eval_metric=None,\n",
       "                                feature_types=None, gamma=None,\n",
       "                                grow_policy=None, importance_type=None,\n",
       "                                interaction_constraints=None, max_bin=None,\n",
       "                                max_cat_threshold=None, max_cat_to_onehot=None,\n",
       "                                max_delta_step=None, max_depth=None,\n",
       "                                max_leaves=None, min_child_weight=None,\n",
       "                                missing=nan, monotone_constraints=None,\n",
       "                                multi_strategy=None, n_estimators=None,\n",
       "                                n_jobs=None, num_parallel_tree=None,\n",
       "                                objective=&#x27;reg:squarederror&#x27;, random_state=None,\n",
       "                                reg_alpha=None, ...))])</pre></div></div></div><div class=\"sk-serial\"><div class=\"sk-item sk-dashed-wrapped\"><div class=\"sk-label-container\"><div class=\"sk-label sk-toggleable\"><input class=\"sk-toggleable__control sk-hidden--visually\" id=\"sk-estimator-id-13\" type=\"checkbox\" ><label for=\"sk-estimator-id-13\" class=\"sk-toggleable__label sk-toggleable__label-arrow\">trf1: ColumnTransformer</label><div class=\"sk-toggleable__content\"><pre>ColumnTransformer(transformers=[(&#x27;num&#x27;, StandardScaler(), slice(0, 12, None))])</pre></div></div></div><div class=\"sk-parallel\"><div class=\"sk-parallel-item\"><div class=\"sk-item\"><div class=\"sk-label-container\"><div class=\"sk-label sk-toggleable\"><input class=\"sk-toggleable__control sk-hidden--visually\" id=\"sk-estimator-id-14\" type=\"checkbox\" ><label for=\"sk-estimator-id-14\" class=\"sk-toggleable__label sk-toggleable__label-arrow\">num</label><div class=\"sk-toggleable__content\"><pre>slice(0, 12, None)</pre></div></div></div><div class=\"sk-serial\"><div class=\"sk-item\"><div class=\"sk-estimator sk-toggleable\"><input class=\"sk-toggleable__control sk-hidden--visually\" id=\"sk-estimator-id-15\" type=\"checkbox\" ><label for=\"sk-estimator-id-15\" class=\"sk-toggleable__label sk-toggleable__label-arrow\">StandardScaler</label><div class=\"sk-toggleable__content\"><pre>StandardScaler()</pre></div></div></div></div></div></div></div></div><div class=\"sk-item\"><div class=\"sk-estimator sk-toggleable\"><input class=\"sk-toggleable__control sk-hidden--visually\" id=\"sk-estimator-id-16\" type=\"checkbox\" ><label for=\"sk-estimator-id-16\" class=\"sk-toggleable__label sk-toggleable__label-arrow\">XGBRFRegressor</label><div class=\"sk-toggleable__content\"><pre>XGBRFRegressor(base_score=None, booster=None, callbacks=None,\n",
       "               colsample_bylevel=None, colsample_bytree=None, device=None,\n",
       "               early_stopping_rounds=None, enable_categorical=False,\n",
       "               eval_metric=None, feature_types=None, gamma=None,\n",
       "               grow_policy=None, importance_type=None,\n",
       "               interaction_constraints=None, max_bin=None,\n",
       "               max_cat_threshold=None, max_cat_to_onehot=None,\n",
       "               max_delta_step=None, max_depth=None, max_leaves=None,\n",
       "               min_child_weight=None, missing=nan, monotone_constraints=None,\n",
       "               multi_strategy=None, n_estimators=None, n_jobs=None,\n",
       "               num_parallel_tree=None, objective=&#x27;reg:squarederror&#x27;,\n",
       "               random_state=None, reg_alpha=None, ...)</pre></div></div></div></div></div></div></div>"
      ],
      "text/plain": [
       "Pipeline(steps=[('trf1',\n",
       "                 ColumnTransformer(transformers=[('num', StandardScaler(),\n",
       "                                                  slice(0, 12, None))])),\n",
       "                ('xgb',\n",
       "                 XGBRFRegressor(base_score=None, booster=None, callbacks=None,\n",
       "                                colsample_bylevel=None, colsample_bytree=None,\n",
       "                                device=None, early_stopping_rounds=None,\n",
       "                                enable_categorical=False, eval_metric=None,\n",
       "                                feature_types=None, gamma=None,\n",
       "                                grow_policy=None, importance_type=None,\n",
       "                                interaction_constraints=None, max_bin=None,\n",
       "                                max_cat_threshold=None, max_cat_to_onehot=None,\n",
       "                                max_delta_step=None, max_depth=None,\n",
       "                                max_leaves=None, min_child_weight=None,\n",
       "                                missing=nan, monotone_constraints=None,\n",
       "                                multi_strategy=None, n_estimators=None,\n",
       "                                n_jobs=None, num_parallel_tree=None,\n",
       "                                objective='reg:squarederror', random_state=None,\n",
       "                                reg_alpha=None, ...))])"
      ]
     },
     "execution_count": 53,
     "metadata": {},
     "output_type": "execute_result"
    }
   ],
   "source": [
    "pipe = Pipeline([\n",
    "    ('trf1', trf1),\n",
    "    ('xgb', xgb.XGBRFRegressor())\n",
    "])\n",
    "\n",
    "pipe.fit(X_train, y_train)"
   ]
  },
  {
   "cell_type": "code",
   "execution_count": 54,
   "id": "41ea3e7d",
   "metadata": {
    "execution": {
     "iopub.execute_input": "2024-07-23T19:54:47.495020Z",
     "iopub.status.busy": "2024-07-23T19:54:47.494095Z",
     "iopub.status.idle": "2024-07-23T19:54:47.548678Z",
     "shell.execute_reply": "2024-07-23T19:54:47.547812Z"
    },
    "papermill": {
     "duration": 0.082253,
     "end_time": "2024-07-23T19:54:47.551105",
     "exception": false,
     "start_time": "2024-07-23T19:54:47.468852",
     "status": "completed"
    },
    "tags": []
   },
   "outputs": [],
   "source": [
    "y_pred = pipe.predict(X_test)"
   ]
  },
  {
   "cell_type": "code",
   "execution_count": 55,
   "id": "c3ac4cc3",
   "metadata": {
    "execution": {
     "iopub.execute_input": "2024-07-23T19:54:47.601548Z",
     "iopub.status.busy": "2024-07-23T19:54:47.601168Z",
     "iopub.status.idle": "2024-07-23T19:54:47.609337Z",
     "shell.execute_reply": "2024-07-23T19:54:47.608205Z"
    },
    "papermill": {
     "duration": 0.035931,
     "end_time": "2024-07-23T19:54:47.611521",
     "exception": false,
     "start_time": "2024-07-23T19:54:47.575590",
     "status": "completed"
    },
    "tags": []
   },
   "outputs": [
    {
     "data": {
      "text/plain": [
       "23.440328393796094"
      ]
     },
     "execution_count": 55,
     "metadata": {},
     "output_type": "execute_result"
    }
   ],
   "source": [
    "mean_squared_error(y_test, y_pred)"
   ]
  },
  {
   "cell_type": "code",
   "execution_count": 56,
   "id": "0e1da0f9",
   "metadata": {
    "execution": {
     "iopub.execute_input": "2024-07-23T19:54:47.660977Z",
     "iopub.status.busy": "2024-07-23T19:54:47.660628Z",
     "iopub.status.idle": "2024-07-23T19:54:47.668319Z",
     "shell.execute_reply": "2024-07-23T19:54:47.667320Z"
    },
    "papermill": {
     "duration": 0.03511,
     "end_time": "2024-07-23T19:54:47.670521",
     "exception": false,
     "start_time": "2024-07-23T19:54:47.635411",
     "status": "completed"
    },
    "tags": []
   },
   "outputs": [
    {
     "data": {
      "text/plain": [
       "4.84152128920199"
      ]
     },
     "execution_count": 56,
     "metadata": {},
     "output_type": "execute_result"
    }
   ],
   "source": [
    "np.sqrt(mean_squared_error(y_test, y_pred))"
   ]
  },
  {
   "cell_type": "code",
   "execution_count": 57,
   "id": "ff623fb1",
   "metadata": {
    "execution": {
     "iopub.execute_input": "2024-07-23T19:54:47.721149Z",
     "iopub.status.busy": "2024-07-23T19:54:47.720435Z",
     "iopub.status.idle": "2024-07-23T19:54:47.725428Z",
     "shell.execute_reply": "2024-07-23T19:54:47.724381Z"
    },
    "papermill": {
     "duration": 0.032417,
     "end_time": "2024-07-23T19:54:47.727443",
     "exception": false,
     "start_time": "2024-07-23T19:54:47.695026",
     "status": "completed"
    },
    "tags": []
   },
   "outputs": [],
   "source": [
    "import pickle\n",
    "os.makedirs('../models', exist_ok=True)"
   ]
  },
  {
   "cell_type": "code",
   "execution_count": 58,
   "id": "202a9b06",
   "metadata": {
    "execution": {
     "iopub.execute_input": "2024-07-23T19:54:47.779381Z",
     "iopub.status.busy": "2024-07-23T19:54:47.778443Z",
     "iopub.status.idle": "2024-07-23T19:54:47.790734Z",
     "shell.execute_reply": "2024-07-23T19:54:47.789484Z"
    },
    "papermill": {
     "duration": 0.040519,
     "end_time": "2024-07-23T19:54:47.792883",
     "exception": false,
     "start_time": "2024-07-23T19:54:47.752364",
     "status": "completed"
    },
    "tags": []
   },
   "outputs": [
    {
     "name": "stdout",
     "output_type": "stream",
     "text": [
      "Model saved successfully!!\n"
     ]
    }
   ],
   "source": [
    "with open('../models/model_xgb.pkl', 'wb') as file:\n",
    "    pickle.dump(pipe, file)\n",
    "print(\"Model saved successfully!!\")"
   ]
  },
  {
   "cell_type": "code",
   "execution_count": 59,
   "id": "0765862c",
   "metadata": {
    "execution": {
     "iopub.execute_input": "2024-07-23T19:54:47.843479Z",
     "iopub.status.busy": "2024-07-23T19:54:47.843072Z",
     "iopub.status.idle": "2024-07-23T19:54:47.853254Z",
     "shell.execute_reply": "2024-07-23T19:54:47.852335Z"
    },
    "papermill": {
     "duration": 0.038533,
     "end_time": "2024-07-23T19:54:47.855890",
     "exception": false,
     "start_time": "2024-07-23T19:54:47.817357",
     "status": "completed"
    },
    "tags": []
   },
   "outputs": [],
   "source": [
    "model = pickle.load(open('../models/model_xgb.pkl', 'rb'))"
   ]
  },
  {
   "cell_type": "code",
   "execution_count": 60,
   "id": "11a392c5",
   "metadata": {
    "execution": {
     "iopub.execute_input": "2024-07-23T19:54:47.906630Z",
     "iopub.status.busy": "2024-07-23T19:54:47.906255Z",
     "iopub.status.idle": "2024-07-23T19:54:47.942886Z",
     "shell.execute_reply": "2024-07-23T19:54:47.941822Z"
    },
    "papermill": {
     "duration": 0.065078,
     "end_time": "2024-07-23T19:54:47.945187",
     "exception": false,
     "start_time": "2024-07-23T19:54:47.880109",
     "status": "completed"
    },
    "tags": []
   },
   "outputs": [
    {
     "data": {
      "text/html": [
       "<div>\n",
       "<style scoped>\n",
       "    .dataframe tbody tr th:only-of-type {\n",
       "        vertical-align: middle;\n",
       "    }\n",
       "\n",
       "    .dataframe tbody tr th {\n",
       "        vertical-align: top;\n",
       "    }\n",
       "\n",
       "    .dataframe thead th {\n",
       "        text-align: right;\n",
       "    }\n",
       "</style>\n",
       "<table border=\"1\" class=\"dataframe\">\n",
       "  <thead>\n",
       "    <tr style=\"text-align: right;\">\n",
       "      <th></th>\n",
       "      <th>pickup_longitude</th>\n",
       "      <th>pickup_latitude</th>\n",
       "      <th>dropoff_longitude</th>\n",
       "      <th>dropoff_latitude</th>\n",
       "      <th>passenger_count</th>\n",
       "      <th>distance</th>\n",
       "      <th>hour</th>\n",
       "      <th>day</th>\n",
       "      <th>month</th>\n",
       "      <th>day_of_week</th>\n",
       "      <th>is_weekend</th>\n",
       "      <th>is_rush_hour</th>\n",
       "    </tr>\n",
       "  </thead>\n",
       "  <tbody>\n",
       "    <tr>\n",
       "      <th>0</th>\n",
       "      <td>-73.98713</td>\n",
       "      <td>40.732029</td>\n",
       "      <td>-73.991875</td>\n",
       "      <td>40.74942</td>\n",
       "      <td>1</td>\n",
       "      <td>1.972399</td>\n",
       "      <td>8</td>\n",
       "      <td>21</td>\n",
       "      <td>4</td>\n",
       "      <td>5</td>\n",
       "      <td>1</td>\n",
       "      <td>1</td>\n",
       "    </tr>\n",
       "  </tbody>\n",
       "</table>\n",
       "</div>"
      ],
      "text/plain": [
       "   pickup_longitude  pickup_latitude  dropoff_longitude  dropoff_latitude  \\\n",
       "0         -73.98713        40.732029         -73.991875          40.74942   \n",
       "\n",
       "   passenger_count  distance  hour  day  month  day_of_week  is_weekend  \\\n",
       "0                1  1.972399     8   21      4            5           1   \n",
       "\n",
       "   is_rush_hour  \n",
       "0             1  "
      ]
     },
     "execution_count": 60,
     "metadata": {},
     "output_type": "execute_result"
    }
   ],
   "source": [
    "# now take a sample data and predict the fare amount\n",
    "# pickup_datetime\tpickup_longitude\tpickup_latitude\tdropoff_longitude\tdropoff_latitude\tpassenger_count\n",
    "pickup_datetime = '2012-04-21 08:30:00'\n",
    "pickup_longitude = -73.987130\n",
    "pickup_latitude = 40.732029\n",
    "dropoff_longitude = -73.991875\n",
    "dropoff_latitude = 40.74942\n",
    "passenger_count = 1\n",
    "\n",
    "# need to make this: pickup_longitude\tpickup_latitude\tdropoff_longitude\tdropoff_latitude\tpassenger_count\tdistance\thour\tday\tmonth\tday_of_week\tis_weekend\tis_rush_hour\n",
    "data = {'pickup_datetime':pickup_datetime, 'pickup_longitude':pickup_longitude, 'pickup_latitude':pickup_latitude, 'dropoff_longitude':dropoff_longitude, 'dropoff_latitude':dropoff_latitude, 'passenger_count':passenger_count}\n",
    "df = pd.DataFrame(data, index=[0])\n",
    "df['pickup_datetime'] = pd.to_datetime(df['pickup_datetime'])\n",
    "df['distance'] = df.apply(lambda x: calculate_distance(x), axis=1)\n",
    "df['hour'] = df['pickup_datetime'].dt.hour\n",
    "df['day'] = df['pickup_datetime'].dt.day\n",
    "df['month'] = df['pickup_datetime'].dt.month\n",
    "df['day_of_week'] = df['pickup_datetime'].dt.dayofweek\n",
    "df['is_weekend'] = df['day_of_week'].apply(lambda x: 1 if x > 4 else 0)\n",
    "df['is_rush_hour'] = df['hour'].apply(lambda x: 1 if x in [7,8,9,16,17,18] else 0)\n",
    "df.drop(['pickup_datetime'],axis=1,inplace=True)\n",
    "df"
   ]
  },
  {
   "cell_type": "code",
   "execution_count": 61,
   "id": "294f0526",
   "metadata": {
    "execution": {
     "iopub.execute_input": "2024-07-23T19:54:47.998692Z",
     "iopub.status.busy": "2024-07-23T19:54:47.997603Z",
     "iopub.status.idle": "2024-07-23T19:54:48.013232Z",
     "shell.execute_reply": "2024-07-23T19:54:48.012157Z"
    },
    "papermill": {
     "duration": 0.04438,
     "end_time": "2024-07-23T19:54:48.015656",
     "exception": false,
     "start_time": "2024-07-23T19:54:47.971276",
     "status": "completed"
    },
    "tags": []
   },
   "outputs": [
    {
     "data": {
      "text/plain": [
       "array([8.265574], dtype=float32)"
      ]
     },
     "execution_count": 61,
     "metadata": {},
     "output_type": "execute_result"
    }
   ],
   "source": [
    "fare_amount = model.predict(df)\n",
    "fare_amount"
   ]
  },
  {
   "cell_type": "code",
   "execution_count": null,
   "id": "4c5b6176",
   "metadata": {
    "papermill": {
     "duration": 0.02438,
     "end_time": "2024-07-23T19:54:48.065221",
     "exception": false,
     "start_time": "2024-07-23T19:54:48.040841",
     "status": "completed"
    },
    "tags": []
   },
   "outputs": [],
   "source": []
  }
 ],
 "metadata": {
  "kaggle": {
   "accelerator": "none",
   "dataSources": [
    {
     "datasetId": 5152572,
     "sourceId": 8610283,
     "sourceType": "datasetVersion"
    }
   ],
   "dockerImageVersionId": 30746,
   "isGpuEnabled": false,
   "isInternetEnabled": true,
   "language": "python",
   "sourceType": "notebook"
  },
  "kernelspec": {
   "display_name": "Python 3",
   "language": "python",
   "name": "python3"
  },
  "language_info": {
   "codemirror_mode": {
    "name": "ipython",
    "version": 3
   },
   "file_extension": ".py",
   "mimetype": "text/x-python",
   "name": "python",
   "nbconvert_exporter": "python",
   "pygments_lexer": "ipython3",
   "version": "3.10.13"
  },
  "papermill": {
   "default_parameters": {},
   "duration": 169.91612,
   "end_time": "2024-07-23T19:54:50.710922",
   "environment_variables": {},
   "exception": null,
   "input_path": "__notebook__.ipynb",
   "output_path": "__notebook__.ipynb",
   "parameters": {},
   "start_time": "2024-07-23T19:52:00.794802",
   "version": "2.5.0"
  }
 },
 "nbformat": 4,
 "nbformat_minor": 5
}
